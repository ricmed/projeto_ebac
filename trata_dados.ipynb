{
 "cells": [
  {
   "cell_type": "markdown",
   "id": "43089ea8a0b11c10",
   "metadata": {},
   "source": [
    "# Tratamento dos dados\n",
    "*Objetivos*: \n",
    "- Tratar o arquivo NINDINET.DBF para que seja possível a análise dos dados.\n",
    "- Criar um modelo de previsão de óbitos por Leptospirose"
   ]
  },
  {
   "cell_type": "code",
   "id": "initial_id",
   "metadata": {
    "collapsed": true,
    "jupyter": {
     "outputs_hidden": true
    },
    "ExecuteTime": {
     "end_time": "2024-10-08T21:58:17.811808Z",
     "start_time": "2024-10-08T21:58:17.806460Z"
    }
   },
   "source": [
    "import pandas as pd\n",
    "\n",
    "from imblearn.over_sampling import SMOTE\n",
    "from imblearn.under_sampling import RandomUnderSampler\n",
    "\n",
    "from xgboost import XGBClassifier\n",
    "\n",
    "from sklearn.model_selection import train_test_split\n",
    "from sklearn.linear_model import LogisticRegression\n",
    "from sklearn.ensemble import AdaBoostClassifier\n",
    "from sklearn.metrics import accuracy_score, confusion_matrix, classification_report"
   ],
   "outputs": [],
   "execution_count": 101
  },
  {
   "cell_type": "markdown",
   "id": "6e0bd429f7c2f7a6",
   "metadata": {},
   "source": [
    "## Funções Auxiliares"
   ]
  },
  {
   "cell_type": "code",
   "id": "bd5f92457ca34689",
   "metadata": {
    "ExecuteTime": {
     "end_time": "2024-10-08T21:32:57.532356Z",
     "start_time": "2024-10-08T21:32:57.523757Z"
    }
   },
   "source": [
    "# Função para retornar os valores únicos das colunas do df\n",
    "def valores_unicos(df):\n",
    "    for coluna in df.columns:\n",
    "        print(f'{coluna}: {df[coluna].unique()}')\n",
    "        print()\n",
    "\n",
    "# valores_unicos(df[colunas_painel])\n",
    "\n",
    "# Função para verificar a existência de valores nulos nas colunas do df\n",
    "def verifica_nulos(df):\n",
    "    for coluna in df.columns:\n",
    "        print(f'{coluna}: {df[coluna].isnull().sum()}')\n",
    "        print()\n",
    "\n",
    "# Função para verificar a porcentagem de nulos nas colunas do df\n",
    "def porcentagem_nulos(df):\n",
    "    for coluna in df.columns:\n",
    "        print(f'{coluna}: {df[coluna].isnull().sum() / len(df) * 100:.2f}%')\n",
    "\n",
    "# Função para converter a idade\n",
    "def converter_idade(idade):\n",
    "    faixas_etarias = {\n",
    "        (0, 999): 'IGNORADO',\n",
    "        (1000, 3999): '00 a 01 ano',\n",
    "        (4000, 4004): '01 a 04 anos',\n",
    "        (4005, 4009): '05 a 09 anos',\n",
    "        (4010, 4014): '10 a 14 anos',\n",
    "        (4015, 4019): '15 a 19 anos',\n",
    "        (4020, 4029): '20 a 29 anos',\n",
    "        (4030, 4039): '30 a 39 anos',\n",
    "        (4040, 4049): '40 a 49 anos',\n",
    "        (4050, 4059): '50 a 59 anos',\n",
    "        (4060, 4069): '60 a 69 anos',\n",
    "        (4070, 4079): '70 a 79 anos',\n",
    "        (4080, 4999): 'Mais de 80 anos'\n",
    "    }\n",
    "\n",
    "    for (inicio, fim), faixa in faixas_etarias.items():\n",
    "        if inicio <= idade <= fim:\n",
    "            return faixa\n",
    "    return 'IGNORADO'"
   ],
   "outputs": [],
   "execution_count": 52
  },
  {
   "metadata": {
    "ExecuteTime": {
     "end_time": "2024-10-08T21:32:57.631454Z",
     "start_time": "2024-10-08T21:32:57.624447Z"
    }
   },
   "cell_type": "code",
   "source": [
    "# Todads as colunas do df\n",
    "colunas_df = ['NU_NOTIFIC', 'TP_NOT', 'ID_AGRAVO', 'CS_SUSPEIT','IN_AIDS', 'CS_MENING',\n",
    "           'DT_NOTIFIC', 'SEM_NOT', 'NU_ANO', 'SG_UF_NOT', 'ID_MUNICIP', 'ID_REGIONA',\n",
    "           'ID_UNIDADE', 'DT_SIN_PRI', 'SEM_PRI', 'DT_NASC', 'NU_IDADE_N', 'CS_SEXO', \n",
    "           'CS_GESTANT', 'CS_RACA', 'CS_ESCOL_N', 'ID_CNS_SUS', 'SG_UF', 'ID_MN_RESI', \n",
    "           'ID_RG_RESI', 'ID_DISTRIT', 'ID_BAIRRO', 'NM_BAIRRO', 'NU_CEP', 'NU_DDD_TEL', \n",
    "           'NU_TELEFON', 'CS_ZONA', 'ID_PAIS', 'NDUPLIC_N', 'IN_VINCULA', 'DT_INVEST', \n",
    "           'ID_OCUPA_N', 'CLASSI_FIN', 'CRITERIO', 'TPAUTOCTO', 'COUFINF', 'COPAISINF',\n",
    "           'COMUNINF', 'CODISINF', 'CO_BAINFC', 'NOBAIINF', 'DOENCA_TRA', 'EVOLUCAO',\n",
    "           'DT_OBITO', 'DT_ENCERRA', 'DT_DIGITA', 'DT_TRANSUS', 'DT_TRANSDM', 'DT_TRANSSM',\n",
    "           'DT_TRANSRM', 'DT_TRANSRS', 'DT_TRANSSE', 'NU_LOTE_V', 'NU_LOTE_H', 'CS_FLXRET', \n",
    "           'FLXRECEBI', 'TPUNINOT']\n",
    "\n",
    "# Colunas que serão analisadas\n",
    "colunas_painel = ['ID_AGRAVO', 'DT_NOTIFIC', 'DT_SIN_PRI', 'CS_SEXO', 'CS_GESTANT', 'CS_RACA', 'CS_ESCOL_N', 'DT_OBITO', 'NU_IDADE_N']"
   ],
   "id": "ebda85458ddddb56",
   "outputs": [],
   "execution_count": 53
  },
  {
   "metadata": {},
   "cell_type": "markdown",
   "source": [
    "## Convertendo o arquivo .dbf\n",
    "- Converter o arquivo .xls para .csv"
   ],
   "id": "7c21baa3c25060cc"
  },
  {
   "metadata": {
    "ExecuteTime": {
     "end_time": "2024-10-08T21:32:57.696449Z",
     "start_time": "2024-10-08T21:32:57.692084Z"
    }
   },
   "cell_type": "code",
   "source": [
    "# Converter de .dbf para .csv\n",
    "# dbf = DBF('dbf/NINDINET.DBF')\n",
    "# df = pd.DataFrame(iter(dbf))\n",
    "# df.to_csv('NINDINET.csv', index=False)\n",
    "# \n",
    "# df.head()"
   ],
   "id": "ac36bf30db974ecb",
   "outputs": [],
   "execution_count": 54
  },
  {
   "metadata": {},
   "cell_type": "markdown",
   "source": [
    "- CASO JÁ TENHA CRIADO O ARQUIVO .CSV, PODE EXECUTAR À PARTIR DAQUI\n",
    "- Descomentar o código abaixo e comentar o código acima"
   ],
   "id": "f8e2f44a00adad88"
  },
  {
   "metadata": {
    "ExecuteTime": {
     "end_time": "2024-10-08T21:33:06.343878Z",
     "start_time": "2024-10-08T21:32:57.758703Z"
    }
   },
   "cell_type": "code",
   "source": [
    "# Carrega o .csv salvo\n",
    "arquivo_csv = 'NINDINET.csv'\n",
    "\n",
    "df = pd.read_csv(arquivo_csv, usecols=colunas_painel, sep=',', low_memory=False)\n",
    "\n",
    "df.head()"
   ],
   "id": "717d3ace8ae47942",
   "outputs": [
    {
     "data": {
      "text/plain": [
       "  ID_AGRAVO  DT_NOTIFIC  DT_SIN_PRI  NU_IDADE_N CS_SEXO  CS_GESTANT  CS_RACA  \\\n",
       "0       A90  2007-02-01  2007-01-23        4029       M         6.0      4.0   \n",
       "1       A90  2007-02-22  2007-02-22        4018       F         9.0      9.0   \n",
       "2       A90  2008-02-07  2008-02-02        4002       M         6.0      4.0   \n",
       "3       A90  2008-01-06  2008-01-03        4025       F         5.0      4.0   \n",
       "4       X29  2008-01-09  2008-01-09        4047       M         6.0      4.0   \n",
       "\n",
       "   CS_ESCOL_N DT_OBITO  \n",
       "0         2.0      NaN  \n",
       "1         9.0      NaN  \n",
       "2        10.0      NaN  \n",
       "3         6.0      NaN  \n",
       "4         9.0      NaN  "
      ],
      "text/html": [
       "<div>\n",
       "<style scoped>\n",
       "    .dataframe tbody tr th:only-of-type {\n",
       "        vertical-align: middle;\n",
       "    }\n",
       "\n",
       "    .dataframe tbody tr th {\n",
       "        vertical-align: top;\n",
       "    }\n",
       "\n",
       "    .dataframe thead th {\n",
       "        text-align: right;\n",
       "    }\n",
       "</style>\n",
       "<table border=\"1\" class=\"dataframe\">\n",
       "  <thead>\n",
       "    <tr style=\"text-align: right;\">\n",
       "      <th></th>\n",
       "      <th>ID_AGRAVO</th>\n",
       "      <th>DT_NOTIFIC</th>\n",
       "      <th>DT_SIN_PRI</th>\n",
       "      <th>NU_IDADE_N</th>\n",
       "      <th>CS_SEXO</th>\n",
       "      <th>CS_GESTANT</th>\n",
       "      <th>CS_RACA</th>\n",
       "      <th>CS_ESCOL_N</th>\n",
       "      <th>DT_OBITO</th>\n",
       "    </tr>\n",
       "  </thead>\n",
       "  <tbody>\n",
       "    <tr>\n",
       "      <th>0</th>\n",
       "      <td>A90</td>\n",
       "      <td>2007-02-01</td>\n",
       "      <td>2007-01-23</td>\n",
       "      <td>4029</td>\n",
       "      <td>M</td>\n",
       "      <td>6.0</td>\n",
       "      <td>4.0</td>\n",
       "      <td>2.0</td>\n",
       "      <td>NaN</td>\n",
       "    </tr>\n",
       "    <tr>\n",
       "      <th>1</th>\n",
       "      <td>A90</td>\n",
       "      <td>2007-02-22</td>\n",
       "      <td>2007-02-22</td>\n",
       "      <td>4018</td>\n",
       "      <td>F</td>\n",
       "      <td>9.0</td>\n",
       "      <td>9.0</td>\n",
       "      <td>9.0</td>\n",
       "      <td>NaN</td>\n",
       "    </tr>\n",
       "    <tr>\n",
       "      <th>2</th>\n",
       "      <td>A90</td>\n",
       "      <td>2008-02-07</td>\n",
       "      <td>2008-02-02</td>\n",
       "      <td>4002</td>\n",
       "      <td>M</td>\n",
       "      <td>6.0</td>\n",
       "      <td>4.0</td>\n",
       "      <td>10.0</td>\n",
       "      <td>NaN</td>\n",
       "    </tr>\n",
       "    <tr>\n",
       "      <th>3</th>\n",
       "      <td>A90</td>\n",
       "      <td>2008-01-06</td>\n",
       "      <td>2008-01-03</td>\n",
       "      <td>4025</td>\n",
       "      <td>F</td>\n",
       "      <td>5.0</td>\n",
       "      <td>4.0</td>\n",
       "      <td>6.0</td>\n",
       "      <td>NaN</td>\n",
       "    </tr>\n",
       "    <tr>\n",
       "      <th>4</th>\n",
       "      <td>X29</td>\n",
       "      <td>2008-01-09</td>\n",
       "      <td>2008-01-09</td>\n",
       "      <td>4047</td>\n",
       "      <td>M</td>\n",
       "      <td>6.0</td>\n",
       "      <td>4.0</td>\n",
       "      <td>9.0</td>\n",
       "      <td>NaN</td>\n",
       "    </tr>\n",
       "  </tbody>\n",
       "</table>\n",
       "</div>"
      ]
     },
     "execution_count": 55,
     "metadata": {},
     "output_type": "execute_result"
    }
   ],
   "execution_count": 55
  },
  {
   "metadata": {},
   "cell_type": "markdown",
   "source": "## Para a análise, vamos manter apenas os casos confirmados de leptospirose",
   "id": "35b6b55073b0bac"
  },
  {
   "metadata": {
    "ExecuteTime": {
     "end_time": "2024-10-08T21:33:06.731082Z",
     "start_time": "2024-10-08T21:33:06.496447Z"
    }
   },
   "cell_type": "code",
   "source": [
    "# Manter somente ID_AGRAVO == A279\n",
    "df = df[df['ID_AGRAVO'] == 'A279']\n",
    "\n",
    "# Remover a coluna ID_AGRAVO\n",
    "df = df.drop(columns=['ID_AGRAVO'])"
   ],
   "id": "d62dc06ed692bf97",
   "outputs": [],
   "execution_count": 56
  },
  {
   "metadata": {
    "ExecuteTime": {
     "end_time": "2024-10-08T21:33:06.785822Z",
     "start_time": "2024-10-08T21:33:06.780786Z"
    }
   },
   "cell_type": "code",
   "source": [
    "total_de_casos = len(df)\n",
    "\n",
    "print(f'Temos um total de {total_de_casos} casos de leptospirose.')"
   ],
   "id": "8358321151cd9811",
   "outputs": [
    {
     "name": "stdout",
     "output_type": "stream",
     "text": [
      "Temos um total de 13353 casos de leptospirose.\n"
     ]
    }
   ],
   "execution_count": 57
  },
  {
   "cell_type": "markdown",
   "id": "b51f133d9aeeb61f",
   "metadata": {},
   "source": "## Tratamento de valores nulos"
  },
  {
   "cell_type": "code",
   "id": "eb3e23f2047d52e2",
   "metadata": {
    "ExecuteTime": {
     "end_time": "2024-10-08T21:33:06.834565Z",
     "start_time": "2024-10-08T21:33:06.821834Z"
    }
   },
   "source": "porcentagem_nulos(df)",
   "outputs": [
    {
     "name": "stdout",
     "output_type": "stream",
     "text": [
      "DT_NOTIFIC: 0.00%\n",
      "DT_SIN_PRI: 0.00%\n",
      "NU_IDADE_N: 0.00%\n",
      "CS_SEXO: 0.00%\n",
      "CS_GESTANT: 0.00%\n",
      "CS_RACA: 4.43%\n",
      "CS_ESCOL_N: 16.45%\n",
      "DT_OBITO: 95.63%\n"
     ]
    }
   ],
   "execution_count": 58
  },
  {
   "metadata": {},
   "cell_type": "markdown",
   "source": "### Imputar a moda aos valores nullos das colunas CS_RACA e CS_ESCOL_N",
   "id": "48330eda91f32a8"
  },
  {
   "metadata": {
    "ExecuteTime": {
     "end_time": "2024-10-08T21:33:06.945708Z",
     "start_time": "2024-10-08T21:33:06.932168Z"
    }
   },
   "cell_type": "code",
   "source": "df.info()",
   "id": "74b6151d5d538f17",
   "outputs": [
    {
     "name": "stdout",
     "output_type": "stream",
     "text": [
      "<class 'pandas.core.frame.DataFrame'>\n",
      "Index: 13353 entries, 2261 to 1661182\n",
      "Data columns (total 8 columns):\n",
      " #   Column      Non-Null Count  Dtype  \n",
      "---  ------      --------------  -----  \n",
      " 0   DT_NOTIFIC  13353 non-null  object \n",
      " 1   DT_SIN_PRI  13353 non-null  object \n",
      " 2   NU_IDADE_N  13353 non-null  int64  \n",
      " 3   CS_SEXO     13353 non-null  object \n",
      " 4   CS_GESTANT  13353 non-null  float64\n",
      " 5   CS_RACA     12762 non-null  float64\n",
      " 6   CS_ESCOL_N  11156 non-null  float64\n",
      " 7   DT_OBITO    583 non-null    object \n",
      "dtypes: float64(3), int64(1), object(4)\n",
      "memory usage: 938.9+ KB\n"
     ]
    }
   ],
   "execution_count": 59
  },
  {
   "metadata": {
    "ExecuteTime": {
     "end_time": "2024-10-08T21:33:07.022048Z",
     "start_time": "2024-10-08T21:33:07.012462Z"
    }
   },
   "cell_type": "code",
   "source": [
    "# Usando a moda para preencher valores nulos\n",
    "df['CS_RACA'] = df['CS_RACA'].fillna(df['CS_RACA'].mode()[0])\n",
    "df['CS_ESCOL_N'] = df['CS_ESCOL_N'].fillna(df['CS_ESCOL_N'].mode()[0])\n"
   ],
   "id": "470501c7924172d9",
   "outputs": [],
   "execution_count": 60
  },
  {
   "metadata": {},
   "cell_type": "markdown",
   "source": "### Remover os registros das colunas com baixa quantidade de valores nulos",
   "id": "aa79cb04ca0298e4"
  },
  {
   "metadata": {
    "ExecuteTime": {
     "end_time": "2024-10-08T21:33:07.090646Z",
     "start_time": "2024-10-08T21:33:07.087155Z"
    }
   },
   "cell_type": "code",
   "source": [
    "# Removendo as linhas nulas na coluna ID_MN_RESI\n",
    "#df = df.dropna(subset=['ID_MN_RESI'])"
   ],
   "id": "93ce9b0b09d4c27a",
   "outputs": [],
   "execution_count": 61
  },
  {
   "metadata": {},
   "cell_type": "markdown",
   "source": "### Convertendo a coluna target DT_OBITO ",
   "id": "f001983d648afb44"
  },
  {
   "metadata": {
    "ExecuteTime": {
     "end_time": "2024-10-08T21:33:07.153493Z",
     "start_time": "2024-10-08T21:33:07.149379Z"
    }
   },
   "cell_type": "code",
   "source": [
    "# Transformar a coluna DT_OBITO em booleana\n",
    "df['DT_OBITO'] = df['DT_OBITO'].notnull().astype(int)"
   ],
   "id": "937a2f20f91b8dfd",
   "outputs": [],
   "execution_count": 62
  },
  {
   "metadata": {},
   "cell_type": "markdown",
   "source": "### Criando a coluna NU_DIAS a partir de DT_NOTIFIC e DT_SIN_PRI",
   "id": "99ca67bf38dbd94a"
  },
  {
   "metadata": {
    "ExecuteTime": {
     "end_time": "2024-10-08T21:33:07.228935Z",
     "start_time": "2024-10-08T21:33:07.211555Z"
    }
   },
   "cell_type": "code",
   "source": [
    "# Transformmar as colunas DT_NOTIFIC e DT_SIN_PRI em datetime\n",
    "df['DT_NOTIFIC'] = pd.to_datetime(df['DT_NOTIFIC'], format='%Y-%m-%d')\n",
    "df['DT_SIN_PRI'] = pd.to_datetime(df['DT_SIN_PRI'], format='%Y-%m-%d')"
   ],
   "id": "fc4252832f34a2f6",
   "outputs": [],
   "execution_count": 63
  },
  {
   "metadata": {
    "ExecuteTime": {
     "end_time": "2024-10-08T21:33:07.306022Z",
     "start_time": "2024-10-08T21:33:07.292279Z"
    }
   },
   "cell_type": "code",
   "source": [
    "# Criar uma coluna chamada NU_DIAS entre a data de notificação e a data dos primeiros sintomas\n",
    "df['NU_DIAS'] = (df['DT_NOTIFIC'] - df['DT_SIN_PRI']).dt.days\n",
    "df.sample(5)"
   ],
   "id": "b9f3d47238e05b91",
   "outputs": [
    {
     "data": {
      "text/plain": [
       "       DT_NOTIFIC DT_SIN_PRI  NU_IDADE_N CS_SEXO  CS_GESTANT  CS_RACA  \\\n",
       "560726 2014-03-26 2014-03-19        4038       F         5.0      4.0   \n",
       "605992 2024-04-11 2024-04-10        4016       F         5.0      4.0   \n",
       "183154 2017-01-31 2017-01-24        4045       M         6.0      4.0   \n",
       "506076 2017-04-24 2017-04-04        4059       M         6.0      4.0   \n",
       "560752 2016-04-16 2016-04-12        4008       M         6.0      4.0   \n",
       "\n",
       "        CS_ESCOL_N  DT_OBITO  NU_DIAS  \n",
       "560726         2.0         0        7  \n",
       "605992         3.0         0        1  \n",
       "183154         3.0         0        7  \n",
       "506076         3.0         0       20  \n",
       "560752         1.0         0        4  "
      ],
      "text/html": [
       "<div>\n",
       "<style scoped>\n",
       "    .dataframe tbody tr th:only-of-type {\n",
       "        vertical-align: middle;\n",
       "    }\n",
       "\n",
       "    .dataframe tbody tr th {\n",
       "        vertical-align: top;\n",
       "    }\n",
       "\n",
       "    .dataframe thead th {\n",
       "        text-align: right;\n",
       "    }\n",
       "</style>\n",
       "<table border=\"1\" class=\"dataframe\">\n",
       "  <thead>\n",
       "    <tr style=\"text-align: right;\">\n",
       "      <th></th>\n",
       "      <th>DT_NOTIFIC</th>\n",
       "      <th>DT_SIN_PRI</th>\n",
       "      <th>NU_IDADE_N</th>\n",
       "      <th>CS_SEXO</th>\n",
       "      <th>CS_GESTANT</th>\n",
       "      <th>CS_RACA</th>\n",
       "      <th>CS_ESCOL_N</th>\n",
       "      <th>DT_OBITO</th>\n",
       "      <th>NU_DIAS</th>\n",
       "    </tr>\n",
       "  </thead>\n",
       "  <tbody>\n",
       "    <tr>\n",
       "      <th>560726</th>\n",
       "      <td>2014-03-26</td>\n",
       "      <td>2014-03-19</td>\n",
       "      <td>4038</td>\n",
       "      <td>F</td>\n",
       "      <td>5.0</td>\n",
       "      <td>4.0</td>\n",
       "      <td>2.0</td>\n",
       "      <td>0</td>\n",
       "      <td>7</td>\n",
       "    </tr>\n",
       "    <tr>\n",
       "      <th>605992</th>\n",
       "      <td>2024-04-11</td>\n",
       "      <td>2024-04-10</td>\n",
       "      <td>4016</td>\n",
       "      <td>F</td>\n",
       "      <td>5.0</td>\n",
       "      <td>4.0</td>\n",
       "      <td>3.0</td>\n",
       "      <td>0</td>\n",
       "      <td>1</td>\n",
       "    </tr>\n",
       "    <tr>\n",
       "      <th>183154</th>\n",
       "      <td>2017-01-31</td>\n",
       "      <td>2017-01-24</td>\n",
       "      <td>4045</td>\n",
       "      <td>M</td>\n",
       "      <td>6.0</td>\n",
       "      <td>4.0</td>\n",
       "      <td>3.0</td>\n",
       "      <td>0</td>\n",
       "      <td>7</td>\n",
       "    </tr>\n",
       "    <tr>\n",
       "      <th>506076</th>\n",
       "      <td>2017-04-24</td>\n",
       "      <td>2017-04-04</td>\n",
       "      <td>4059</td>\n",
       "      <td>M</td>\n",
       "      <td>6.0</td>\n",
       "      <td>4.0</td>\n",
       "      <td>3.0</td>\n",
       "      <td>0</td>\n",
       "      <td>20</td>\n",
       "    </tr>\n",
       "    <tr>\n",
       "      <th>560752</th>\n",
       "      <td>2016-04-16</td>\n",
       "      <td>2016-04-12</td>\n",
       "      <td>4008</td>\n",
       "      <td>M</td>\n",
       "      <td>6.0</td>\n",
       "      <td>4.0</td>\n",
       "      <td>1.0</td>\n",
       "      <td>0</td>\n",
       "      <td>4</td>\n",
       "    </tr>\n",
       "  </tbody>\n",
       "</table>\n",
       "</div>"
      ]
     },
     "execution_count": 64,
     "metadata": {},
     "output_type": "execute_result"
    }
   ],
   "execution_count": 64
  },
  {
   "metadata": {
    "ExecuteTime": {
     "end_time": "2024-10-08T21:33:07.412398Z",
     "start_time": "2024-10-08T21:33:07.405590Z"
    }
   },
   "cell_type": "code",
   "source": [
    "# Remover as colunas DT_NOTIFIC e DT_SIN_PRI\n",
    "df = df.drop(columns=['DT_NOTIFIC', 'DT_SIN_PRI'])"
   ],
   "id": "b726f49533862a6a",
   "outputs": [],
   "execution_count": 65
  },
  {
   "metadata": {
    "ExecuteTime": {
     "end_time": "2024-10-08T21:33:07.507624Z",
     "start_time": "2024-10-08T21:33:07.475182Z"
    }
   },
   "cell_type": "code",
   "source": [
    "# Convertar a coluna NU_IDADE_N\n",
    "df['FAIXA_ETARIA'] = df['NU_IDADE_N'].apply(converter_idade)\n",
    "\n",
    "# Excluir a coluna NU_IDADE_N\n",
    "df = df.drop(columns=['NU_IDADE_N'])"
   ],
   "id": "6b0c6b9337674100",
   "outputs": [],
   "execution_count": 66
  },
  {
   "metadata": {
    "ExecuteTime": {
     "end_time": "2024-10-08T21:33:07.546051Z",
     "start_time": "2024-10-08T21:33:07.528339Z"
    }
   },
   "cell_type": "code",
   "source": [
    "# Converter as colunas CS_SEXO, CS_GESTANT, CS_RACA, CS_ESCOL_N em variáveis dummies\n",
    "df2 = pd.get_dummies(df, columns=['CS_SEXO', 'CS_GESTANT', 'CS_RACA', 'CS_ESCOL_N'], drop_first=True)\n",
    "\n",
    "# Usando Label Encoder para a variável FAIXA_ETARIA\n",
    "\n",
    "# Definir a sequência de faixas etárias conforme a graduação que você quer seguir\n",
    "faixa_etaria_ordem = [\n",
    "    'IGNORADO', '00 a 01 ano', '01 a 04 anos', '05 a 09 anos', '10 a 14 anos', '15 a 19 anos', \n",
    "    '20 a 29 anos', '30 a 39 anos', '40 a 49 anos', '50 a 59 anos', '60 a 69 anos', \n",
    "    '70 a 79 anos', 'Mais de 80 anos'\n",
    "]\n",
    "\n",
    "# Criar um dicionário de mapeamento com base na ordem da lista\n",
    "faixa_etaria_mapping = {faixa: idx for idx, faixa in enumerate(faixa_etaria_ordem)}\n",
    "\n",
    "# Aplicar o mapeamento na coluna 'faixa_etaria'\n",
    "df2['faixa_etaria_encoded'] = df2['FAIXA_ETARIA'].map(faixa_etaria_mapping)\n",
    "\n",
    "# Excluindo a coluna FAIXA_ETARIA\n",
    "df2 = df2.drop(columns=['FAIXA_ETARIA'])\n"
   ],
   "id": "deb78cf3c5cbe599",
   "outputs": [],
   "execution_count": 67
  },
  {
   "metadata": {
    "ExecuteTime": {
     "end_time": "2024-10-08T21:33:07.627047Z",
     "start_time": "2024-10-08T21:33:07.608352Z"
    }
   },
   "cell_type": "code",
   "source": "df2.sample(5)",
   "id": "67776d6fad4721a2",
   "outputs": [
    {
     "data": {
      "text/plain": [
       "         DT_OBITO  NU_DIAS  CS_SEXO_M  CS_GESTANT_2.0  CS_GESTANT_3.0  \\\n",
       "1406932         0      128      False           False           False   \n",
       "940405          0       31       True           False           False   \n",
       "462421          0       13       True           False           False   \n",
       "827247          0       31       True           False           False   \n",
       "472837          1        7       True           False           False   \n",
       "\n",
       "         CS_GESTANT_4.0  CS_GESTANT_5.0  CS_GESTANT_6.0  CS_GESTANT_9.0  \\\n",
       "1406932           False            True           False           False   \n",
       "940405            False           False            True           False   \n",
       "462421            False           False            True           False   \n",
       "827247            False           False            True           False   \n",
       "472837            False           False            True           False   \n",
       "\n",
       "         CS_RACA_2.0  ...  CS_ESCOL_N_2.0  CS_ESCOL_N_3.0  CS_ESCOL_N_4.0  \\\n",
       "1406932        False  ...           False           False           False   \n",
       "940405         False  ...           False           False           False   \n",
       "462421         False  ...           False           False            True   \n",
       "827247         False  ...           False           False           False   \n",
       "472837         False  ...           False           False           False   \n",
       "\n",
       "         CS_ESCOL_N_5.0  CS_ESCOL_N_6.0  CS_ESCOL_N_7.0  CS_ESCOL_N_8.0  \\\n",
       "1406932            True           False           False           False   \n",
       "940405            False            True           False           False   \n",
       "462421            False           False           False           False   \n",
       "827247            False           False           False           False   \n",
       "472837            False            True           False           False   \n",
       "\n",
       "         CS_ESCOL_N_9.0  CS_ESCOL_N_10.0  faixa_etaria_encoded  \n",
       "1406932           False            False                     9  \n",
       "940405            False            False                     5  \n",
       "462421            False            False                     7  \n",
       "827247             True            False                     5  \n",
       "472837            False            False                     4  \n",
       "\n",
       "[5 rows x 25 columns]"
      ],
      "text/html": [
       "<div>\n",
       "<style scoped>\n",
       "    .dataframe tbody tr th:only-of-type {\n",
       "        vertical-align: middle;\n",
       "    }\n",
       "\n",
       "    .dataframe tbody tr th {\n",
       "        vertical-align: top;\n",
       "    }\n",
       "\n",
       "    .dataframe thead th {\n",
       "        text-align: right;\n",
       "    }\n",
       "</style>\n",
       "<table border=\"1\" class=\"dataframe\">\n",
       "  <thead>\n",
       "    <tr style=\"text-align: right;\">\n",
       "      <th></th>\n",
       "      <th>DT_OBITO</th>\n",
       "      <th>NU_DIAS</th>\n",
       "      <th>CS_SEXO_M</th>\n",
       "      <th>CS_GESTANT_2.0</th>\n",
       "      <th>CS_GESTANT_3.0</th>\n",
       "      <th>CS_GESTANT_4.0</th>\n",
       "      <th>CS_GESTANT_5.0</th>\n",
       "      <th>CS_GESTANT_6.0</th>\n",
       "      <th>CS_GESTANT_9.0</th>\n",
       "      <th>CS_RACA_2.0</th>\n",
       "      <th>...</th>\n",
       "      <th>CS_ESCOL_N_2.0</th>\n",
       "      <th>CS_ESCOL_N_3.0</th>\n",
       "      <th>CS_ESCOL_N_4.0</th>\n",
       "      <th>CS_ESCOL_N_5.0</th>\n",
       "      <th>CS_ESCOL_N_6.0</th>\n",
       "      <th>CS_ESCOL_N_7.0</th>\n",
       "      <th>CS_ESCOL_N_8.0</th>\n",
       "      <th>CS_ESCOL_N_9.0</th>\n",
       "      <th>CS_ESCOL_N_10.0</th>\n",
       "      <th>faixa_etaria_encoded</th>\n",
       "    </tr>\n",
       "  </thead>\n",
       "  <tbody>\n",
       "    <tr>\n",
       "      <th>1406932</th>\n",
       "      <td>0</td>\n",
       "      <td>128</td>\n",
       "      <td>False</td>\n",
       "      <td>False</td>\n",
       "      <td>False</td>\n",
       "      <td>False</td>\n",
       "      <td>True</td>\n",
       "      <td>False</td>\n",
       "      <td>False</td>\n",
       "      <td>False</td>\n",
       "      <td>...</td>\n",
       "      <td>False</td>\n",
       "      <td>False</td>\n",
       "      <td>False</td>\n",
       "      <td>True</td>\n",
       "      <td>False</td>\n",
       "      <td>False</td>\n",
       "      <td>False</td>\n",
       "      <td>False</td>\n",
       "      <td>False</td>\n",
       "      <td>9</td>\n",
       "    </tr>\n",
       "    <tr>\n",
       "      <th>940405</th>\n",
       "      <td>0</td>\n",
       "      <td>31</td>\n",
       "      <td>True</td>\n",
       "      <td>False</td>\n",
       "      <td>False</td>\n",
       "      <td>False</td>\n",
       "      <td>False</td>\n",
       "      <td>True</td>\n",
       "      <td>False</td>\n",
       "      <td>False</td>\n",
       "      <td>...</td>\n",
       "      <td>False</td>\n",
       "      <td>False</td>\n",
       "      <td>False</td>\n",
       "      <td>False</td>\n",
       "      <td>True</td>\n",
       "      <td>False</td>\n",
       "      <td>False</td>\n",
       "      <td>False</td>\n",
       "      <td>False</td>\n",
       "      <td>5</td>\n",
       "    </tr>\n",
       "    <tr>\n",
       "      <th>462421</th>\n",
       "      <td>0</td>\n",
       "      <td>13</td>\n",
       "      <td>True</td>\n",
       "      <td>False</td>\n",
       "      <td>False</td>\n",
       "      <td>False</td>\n",
       "      <td>False</td>\n",
       "      <td>True</td>\n",
       "      <td>False</td>\n",
       "      <td>False</td>\n",
       "      <td>...</td>\n",
       "      <td>False</td>\n",
       "      <td>False</td>\n",
       "      <td>True</td>\n",
       "      <td>False</td>\n",
       "      <td>False</td>\n",
       "      <td>False</td>\n",
       "      <td>False</td>\n",
       "      <td>False</td>\n",
       "      <td>False</td>\n",
       "      <td>7</td>\n",
       "    </tr>\n",
       "    <tr>\n",
       "      <th>827247</th>\n",
       "      <td>0</td>\n",
       "      <td>31</td>\n",
       "      <td>True</td>\n",
       "      <td>False</td>\n",
       "      <td>False</td>\n",
       "      <td>False</td>\n",
       "      <td>False</td>\n",
       "      <td>True</td>\n",
       "      <td>False</td>\n",
       "      <td>False</td>\n",
       "      <td>...</td>\n",
       "      <td>False</td>\n",
       "      <td>False</td>\n",
       "      <td>False</td>\n",
       "      <td>False</td>\n",
       "      <td>False</td>\n",
       "      <td>False</td>\n",
       "      <td>False</td>\n",
       "      <td>True</td>\n",
       "      <td>False</td>\n",
       "      <td>5</td>\n",
       "    </tr>\n",
       "    <tr>\n",
       "      <th>472837</th>\n",
       "      <td>1</td>\n",
       "      <td>7</td>\n",
       "      <td>True</td>\n",
       "      <td>False</td>\n",
       "      <td>False</td>\n",
       "      <td>False</td>\n",
       "      <td>False</td>\n",
       "      <td>True</td>\n",
       "      <td>False</td>\n",
       "      <td>False</td>\n",
       "      <td>...</td>\n",
       "      <td>False</td>\n",
       "      <td>False</td>\n",
       "      <td>False</td>\n",
       "      <td>False</td>\n",
       "      <td>True</td>\n",
       "      <td>False</td>\n",
       "      <td>False</td>\n",
       "      <td>False</td>\n",
       "      <td>False</td>\n",
       "      <td>4</td>\n",
       "    </tr>\n",
       "  </tbody>\n",
       "</table>\n",
       "<p>5 rows × 25 columns</p>\n",
       "</div>"
      ]
     },
     "execution_count": 68,
     "metadata": {},
     "output_type": "execute_result"
    }
   ],
   "execution_count": 68
  },
  {
   "metadata": {},
   "cell_type": "markdown",
   "source": "# Aplicar Regressão Logística ",
   "id": "350abc955d004930"
  },
  {
   "cell_type": "code",
   "id": "756477fa67d285c2",
   "metadata": {
    "ExecuteTime": {
     "end_time": "2024-10-08T21:33:07.758524Z",
     "start_time": "2024-10-08T21:33:07.741042Z"
    }
   },
   "source": [
    "# Dividir o df em treino e teste, levando em consideração a coluna DT_OBITO e o desbalanceamento dos dados\n",
    "X = df2.drop(columns=['DT_OBITO'])\n",
    "y = df2['DT_OBITO']\n",
    "\n",
    "X_train, X_test, y_train, y_test = train_test_split(X, y, test_size=0.2, stratify=y, random_state=42)\n"
   ],
   "outputs": [],
   "execution_count": 69
  },
  {
   "metadata": {
    "ExecuteTime": {
     "end_time": "2024-10-08T21:33:07.852546Z",
     "start_time": "2024-10-08T21:33:07.849438Z"
    }
   },
   "cell_type": "code",
   "source": "",
   "id": "99fd3d887275590a",
   "outputs": [],
   "execution_count": null
  },
  {
   "metadata": {
    "ExecuteTime": {
     "end_time": "2024-10-08T21:33:08.587513Z",
     "start_time": "2024-10-08T21:33:07.904451Z"
    }
   },
   "cell_type": "code",
   "source": [
    "# Regressão Logística com ajuste de pesos para lidar com classes desbalanceadas\n",
    "logreg_balanced = LogisticRegression(class_weight='balanced', max_iter=1000)\n",
    "logreg_balanced.fit(X_train, y_train)"
   ],
   "id": "50f969312bcd603c",
   "outputs": [
    {
     "data": {
      "text/plain": [
       "LogisticRegression(class_weight='balanced', max_iter=1000)"
      ],
      "text/html": [
       "<style>#sk-container-id-2 {color: black;}#sk-container-id-2 pre{padding: 0;}#sk-container-id-2 div.sk-toggleable {background-color: white;}#sk-container-id-2 label.sk-toggleable__label {cursor: pointer;display: block;width: 100%;margin-bottom: 0;padding: 0.3em;box-sizing: border-box;text-align: center;}#sk-container-id-2 label.sk-toggleable__label-arrow:before {content: \"▸\";float: left;margin-right: 0.25em;color: #696969;}#sk-container-id-2 label.sk-toggleable__label-arrow:hover:before {color: black;}#sk-container-id-2 div.sk-estimator:hover label.sk-toggleable__label-arrow:before {color: black;}#sk-container-id-2 div.sk-toggleable__content {max-height: 0;max-width: 0;overflow: hidden;text-align: left;background-color: #f0f8ff;}#sk-container-id-2 div.sk-toggleable__content pre {margin: 0.2em;color: black;border-radius: 0.25em;background-color: #f0f8ff;}#sk-container-id-2 input.sk-toggleable__control:checked~div.sk-toggleable__content {max-height: 200px;max-width: 100%;overflow: auto;}#sk-container-id-2 input.sk-toggleable__control:checked~label.sk-toggleable__label-arrow:before {content: \"▾\";}#sk-container-id-2 div.sk-estimator input.sk-toggleable__control:checked~label.sk-toggleable__label {background-color: #d4ebff;}#sk-container-id-2 div.sk-label input.sk-toggleable__control:checked~label.sk-toggleable__label {background-color: #d4ebff;}#sk-container-id-2 input.sk-hidden--visually {border: 0;clip: rect(1px 1px 1px 1px);clip: rect(1px, 1px, 1px, 1px);height: 1px;margin: -1px;overflow: hidden;padding: 0;position: absolute;width: 1px;}#sk-container-id-2 div.sk-estimator {font-family: monospace;background-color: #f0f8ff;border: 1px dotted black;border-radius: 0.25em;box-sizing: border-box;margin-bottom: 0.5em;}#sk-container-id-2 div.sk-estimator:hover {background-color: #d4ebff;}#sk-container-id-2 div.sk-parallel-item::after {content: \"\";width: 100%;border-bottom: 1px solid gray;flex-grow: 1;}#sk-container-id-2 div.sk-label:hover label.sk-toggleable__label {background-color: #d4ebff;}#sk-container-id-2 div.sk-serial::before {content: \"\";position: absolute;border-left: 1px solid gray;box-sizing: border-box;top: 0;bottom: 0;left: 50%;z-index: 0;}#sk-container-id-2 div.sk-serial {display: flex;flex-direction: column;align-items: center;background-color: white;padding-right: 0.2em;padding-left: 0.2em;position: relative;}#sk-container-id-2 div.sk-item {position: relative;z-index: 1;}#sk-container-id-2 div.sk-parallel {display: flex;align-items: stretch;justify-content: center;background-color: white;position: relative;}#sk-container-id-2 div.sk-item::before, #sk-container-id-2 div.sk-parallel-item::before {content: \"\";position: absolute;border-left: 1px solid gray;box-sizing: border-box;top: 0;bottom: 0;left: 50%;z-index: -1;}#sk-container-id-2 div.sk-parallel-item {display: flex;flex-direction: column;z-index: 1;position: relative;background-color: white;}#sk-container-id-2 div.sk-parallel-item:first-child::after {align-self: flex-end;width: 50%;}#sk-container-id-2 div.sk-parallel-item:last-child::after {align-self: flex-start;width: 50%;}#sk-container-id-2 div.sk-parallel-item:only-child::after {width: 0;}#sk-container-id-2 div.sk-dashed-wrapped {border: 1px dashed gray;margin: 0 0.4em 0.5em 0.4em;box-sizing: border-box;padding-bottom: 0.4em;background-color: white;}#sk-container-id-2 div.sk-label label {font-family: monospace;font-weight: bold;display: inline-block;line-height: 1.2em;}#sk-container-id-2 div.sk-label-container {text-align: center;}#sk-container-id-2 div.sk-container {/* jupyter's `normalize.less` sets `[hidden] { display: none; }` but bootstrap.min.css set `[hidden] { display: none !important; }` so we also need the `!important` here to be able to override the default hidden behavior on the sphinx rendered scikit-learn.org. See: https://github.com/scikit-learn/scikit-learn/issues/21755 */display: inline-block !important;position: relative;}#sk-container-id-2 div.sk-text-repr-fallback {display: none;}</style><div id=\"sk-container-id-2\" class=\"sk-top-container\"><div class=\"sk-text-repr-fallback\"><pre>LogisticRegression(class_weight=&#x27;balanced&#x27;, max_iter=1000)</pre><b>In a Jupyter environment, please rerun this cell to show the HTML representation or trust the notebook. <br />On GitHub, the HTML representation is unable to render, please try loading this page with nbviewer.org.</b></div><div class=\"sk-container\" hidden><div class=\"sk-item\"><div class=\"sk-estimator sk-toggleable\"><input class=\"sk-toggleable__control sk-hidden--visually\" id=\"sk-estimator-id-2\" type=\"checkbox\" checked><label for=\"sk-estimator-id-2\" class=\"sk-toggleable__label sk-toggleable__label-arrow\">LogisticRegression</label><div class=\"sk-toggleable__content\"><pre>LogisticRegression(class_weight=&#x27;balanced&#x27;, max_iter=1000)</pre></div></div></div></div></div>"
      ]
     },
     "execution_count": 70,
     "metadata": {},
     "output_type": "execute_result"
    }
   ],
   "execution_count": 70
  },
  {
   "metadata": {
    "ExecuteTime": {
     "end_time": "2024-10-08T21:33:08.685602Z",
     "start_time": "2024-10-08T21:33:08.664Z"
    }
   },
   "cell_type": "code",
   "source": [
    "# Fazendo previsões e avaliando o modelo\n",
    "y_pred_balanced = logreg_balanced.predict(X_test)\n",
    "accuracy_balanced = accuracy_score(y_test, y_pred_balanced)\n",
    "conf_matrix_balanced = confusion_matrix(y_test, y_pred_balanced)\n",
    "class_report_balanced = classification_report(y_test, y_pred_balanced)\n",
    "\n",
    "print(f'Acurácia {accuracy_balanced}')\n",
    "print(f'Matriz de Confusão:\\n {conf_matrix_balanced}')\n",
    "print(class_report_balanced)\n"
   ],
   "id": "3c0de791af53919e",
   "outputs": [
    {
     "name": "stdout",
     "output_type": "stream",
     "text": [
      "Acurácia 0.600524148259079\n",
      "Matriz de Confusão:\n",
      " [[1529 1025]\n",
      " [  42   75]]\n",
      "              precision    recall  f1-score   support\n",
      "\n",
      "           0       0.97      0.60      0.74      2554\n",
      "           1       0.07      0.64      0.12       117\n",
      "\n",
      "    accuracy                           0.60      2671\n",
      "   macro avg       0.52      0.62      0.43      2671\n",
      "weighted avg       0.93      0.60      0.71      2671\n",
      "\n"
     ]
    }
   ],
   "execution_count": 71
  },
  {
   "metadata": {},
   "cell_type": "markdown",
   "source": "# Aplicar Random Forest",
   "id": "c70d2b2b696bf5c"
  },
  {
   "metadata": {
    "ExecuteTime": {
     "end_time": "2024-10-08T21:33:10.557261Z",
     "start_time": "2024-10-08T21:33:08.768638Z"
    }
   },
   "cell_type": "code",
   "source": [
    "# Random Forest\n",
    "from sklearn.ensemble import RandomForestClassifier\n",
    "\n",
    "rf = RandomForestClassifier(n_estimators=150, random_state=42, class_weight='balanced')\n",
    "rf.fit(X_train, y_train)\n",
    "\n",
    "y_pred_rf = rf.predict(X_test)\n",
    "accuracy_rf = accuracy_score(y_test, y_pred_rf)\n",
    "conf_matrix_rf = confusion_matrix(y_test, y_pred_rf)\n",
    "class_report_rf = classification_report(y_test, y_pred_rf)\n",
    "\n",
    "print(f'Acurácia {accuracy_rf}')\n",
    "print(f'Matriz de Confusão:\\n {conf_matrix_rf}')\n",
    "print(class_report_rf)\n",
    "\n"
   ],
   "id": "a9449a5e6c5f9360",
   "outputs": [
    {
     "name": "stdout",
     "output_type": "stream",
     "text": [
      "Acurácia 0.8637214526394609\n",
      "Matriz de Confusão:\n",
      " [[2290  264]\n",
      " [ 100   17]]\n",
      "              precision    recall  f1-score   support\n",
      "\n",
      "           0       0.96      0.90      0.93      2554\n",
      "           1       0.06      0.15      0.09       117\n",
      "\n",
      "    accuracy                           0.86      2671\n",
      "   macro avg       0.51      0.52      0.51      2671\n",
      "weighted avg       0.92      0.86      0.89      2671\n",
      "\n"
     ]
    }
   ],
   "execution_count": 72
  },
  {
   "metadata": {},
   "cell_type": "markdown",
   "source": "# Aplicar SMOTE para balancear as classes",
   "id": "15f54965eed6d334"
  },
  {
   "metadata": {
    "ExecuteTime": {
     "end_time": "2024-10-08T21:33:10.688143Z",
     "start_time": "2024-10-08T21:33:10.649589Z"
    }
   },
   "cell_type": "code",
   "source": [
    "# Aplicar o SMOTE no conjunto de treino\n",
    "smote = SMOTE(k_neighbors=20, random_state=42)\n",
    "X_train_smote, y_train_smote = smote.fit_resample(X_train, y_train)"
   ],
   "id": "b1cf23acaa24283f",
   "outputs": [],
   "execution_count": 73
  },
  {
   "metadata": {
    "ExecuteTime": {
     "end_time": "2024-10-08T21:33:10.795517Z",
     "start_time": "2024-10-08T21:33:10.787401Z"
    }
   },
   "cell_type": "code",
   "source": "y_test.value_counts()",
   "id": "e9ae21dd6d57d851",
   "outputs": [
    {
     "data": {
      "text/plain": [
       "DT_OBITO\n",
       "0    2554\n",
       "1     117\n",
       "Name: count, dtype: int64"
      ]
     },
     "execution_count": 74,
     "metadata": {},
     "output_type": "execute_result"
    }
   ],
   "execution_count": 74
  },
  {
   "metadata": {
    "ExecuteTime": {
     "end_time": "2024-10-08T21:33:10.957815Z",
     "start_time": "2024-10-08T21:33:10.951911Z"
    }
   },
   "cell_type": "code",
   "source": [
    "# Verificar a quantidade de amostras de cada classe\n",
    "y_train_smote.value_counts()\n"
   ],
   "id": "e40f2f5f73309606",
   "outputs": [
    {
     "data": {
      "text/plain": [
       "DT_OBITO\n",
       "0    10216\n",
       "1    10216\n",
       "Name: count, dtype: int64"
      ]
     },
     "execution_count": 75,
     "metadata": {},
     "output_type": "execute_result"
    }
   ],
   "execution_count": 75
  },
  {
   "metadata": {
    "ExecuteTime": {
     "end_time": "2024-10-08T21:34:57.168317Z",
     "start_time": "2024-10-08T21:34:56.213397Z"
    }
   },
   "cell_type": "code",
   "source": [
    "# Treinar o modelo de Regressão Logísitica após aplicar SMOTE\n",
    "logreg_smote = LogisticRegression(max_iter=1000)\n",
    "logreg_smote.fit(X_train_smote, y_train_smote)\n",
    "\n",
    "# Fazer previsões no conjunto de teste\n",
    "y_pred_smote = logreg_smote.predict(X_test)\n",
    "\n",
    "# Avaliar o desempenho\n",
    "accuracy_smote = accuracy_score(y_test, y_pred_smote)\n",
    "conf_matrix_smote = confusion_matrix(y_test, y_pred_smote)\n",
    "class_report_smote = classification_report(y_test, y_pred_smote)\n",
    "\n",
    "# Exibir os resultados\n",
    "print(f\"Acurácia: {accuracy_smote}\")\n",
    "print(f\"Matriz de Confusão:\\n{conf_matrix_smote}\")\n",
    "print(f\"Relatório de Classificação:\\n{class_report_smote}\")"
   ],
   "id": "b2604a3ee277ca3f",
   "outputs": [
    {
     "name": "stdout",
     "output_type": "stream",
     "text": [
      "Acurácia: 0.899663047547735\n",
      "Matriz de Confusão:\n",
      "[[2381  173]\n",
      " [  95   22]]\n",
      "Relatório de Classificação:\n",
      "              precision    recall  f1-score   support\n",
      "\n",
      "           0       0.96      0.93      0.95      2554\n",
      "           1       0.11      0.19      0.14       117\n",
      "\n",
      "    accuracy                           0.90      2671\n",
      "   macro avg       0.54      0.56      0.54      2671\n",
      "weighted avg       0.92      0.90      0.91      2671\n",
      "\n"
     ]
    }
   ],
   "execution_count": 82
  },
  {
   "metadata": {
    "ExecuteTime": {
     "end_time": "2024-10-08T21:33:22.021785Z",
     "start_time": "2024-10-08T21:33:22.017758Z"
    }
   },
   "cell_type": "code",
   "source": "",
   "id": "a84a7b3d355e38df",
   "outputs": [],
   "execution_count": null
  },
  {
   "metadata": {
    "ExecuteTime": {
     "end_time": "2024-10-08T21:33:27.168350Z",
     "start_time": "2024-10-08T21:33:22.077171Z"
    }
   },
   "cell_type": "code",
   "source": [
    "# Treinar o modelo Random Forest após o SMOTE\n",
    "rf_smote = RandomForestClassifier(n_estimators=500, random_state=42, min_samples_leaf=15)\n",
    "rf_smote.fit(X_train_smote, y_train_smote)\n",
    "\n",
    "# Fazer previsões no conjunto de teste\n",
    "y_pred_rf_smote = rf_smote.predict(X_test)\n",
    "\n",
    "# Avaliar o desempenho\n",
    "accuracy_rf_smote = accuracy_score(y_test, y_pred_rf_smote)\n",
    "conf_matrix_rf_smote = confusion_matrix(y_test, y_pred_rf_smote)\n",
    "class_report_rf_smote = classification_report(y_test, y_pred_rf_smote)\n",
    "\n",
    "\n",
    "\n",
    "# Exibir os resultados\n",
    "print(f\"Acurácia: {accuracy_rf_smote}\")\n",
    "print(f\"Matriz de Confusão:\\n{conf_matrix_rf_smote}\")\n",
    "print(f\"Relatório de Classificação:\\n{class_report_rf_smote}\")"
   ],
   "id": "aa9ab80e5c6d215d",
   "outputs": [
    {
     "name": "stdout",
     "output_type": "stream",
     "text": [
      "Acurácia: 0.8865593410707601\n",
      "Matriz de Confusão:\n",
      "[[2346  208]\n",
      " [  95   22]]\n",
      "Relatório de Classificação:\n",
      "              precision    recall  f1-score   support\n",
      "\n",
      "           0       0.96      0.92      0.94      2554\n",
      "           1       0.10      0.19      0.13       117\n",
      "\n",
      "    accuracy                           0.89      2671\n",
      "   macro avg       0.53      0.55      0.53      2671\n",
      "weighted avg       0.92      0.89      0.90      2671\n",
      "\n"
     ]
    }
   ],
   "execution_count": 77
  },
  {
   "metadata": {},
   "cell_type": "markdown",
   "source": [
    "# Aplicar Under Sampling\n",
    "\n"
   ],
   "id": "98ee454ed7311850"
  },
  {
   "metadata": {
    "ExecuteTime": {
     "end_time": "2024-10-08T21:33:27.269159Z",
     "start_time": "2024-10-08T21:33:27.255944Z"
    }
   },
   "cell_type": "code",
   "source": [
    "# Instanciar o RandomUnderSampler\n",
    "undersampler = RandomUnderSampler(random_state=42)\n",
    "\n",
    "# Aplicar o undersampling apenas no conjunto de treino\n",
    "X_train_under, y_train_under = undersampler.fit_resample(X_train, y_train)"
   ],
   "id": "16c20a3653a49834",
   "outputs": [],
   "execution_count": 78
  },
  {
   "metadata": {
    "ExecuteTime": {
     "end_time": "2024-10-08T21:33:27.869373Z",
     "start_time": "2024-10-08T21:33:27.353731Z"
    }
   },
   "cell_type": "code",
   "source": [
    "# Treinar o modelo de Regressão Logísitica após aplicar SMOTE\n",
    "logreg_smote = LogisticRegression(max_iter=1000, solver='saga', penalty='elasticnet', l1_ratio=0.5)\n",
    "logreg_smote.fit(X_train_under, y_train_under)\n",
    "\n",
    "# Fazer previsões no conjunto de teste\n",
    "y_pred_under = logreg_smote.predict(X_test)\n",
    "\n",
    "# Avaliar o desempenho\n",
    "accuracy_smote = accuracy_score(y_test, y_pred_under)\n",
    "conf_matrix_smote = confusion_matrix(y_test, y_pred_under)\n",
    "class_report_smote = classification_report(y_test, y_pred_under)\n",
    "\n",
    "# Exibir os resultados\n",
    "print(f\"Acurácia: {accuracy_smote}\")\n",
    "print(f\"Matriz de Confusão:\\n{conf_matrix_smote}\")\n",
    "print(f\"Relatório de Classificação:\\n{class_report_smote}\")"
   ],
   "id": "a96ec73397159e98",
   "outputs": [
    {
     "name": "stdout",
     "output_type": "stream",
     "text": [
      "Acurácia: 0.3474354174466492\n",
      "Matriz de Confusão:\n",
      "[[ 828 1726]\n",
      " [  17  100]]\n",
      "Relatório de Classificação:\n",
      "              precision    recall  f1-score   support\n",
      "\n",
      "           0       0.98      0.32      0.49      2554\n",
      "           1       0.05      0.85      0.10       117\n",
      "\n",
      "    accuracy                           0.35      2671\n",
      "   macro avg       0.52      0.59      0.30      2671\n",
      "weighted avg       0.94      0.35      0.47      2671\n",
      "\n"
     ]
    },
    {
     "name": "stderr",
     "output_type": "stream",
     "text": [
      "C:\\Users\\ricme\\anaconda3\\envs\\ebac\\Lib\\site-packages\\sklearn\\linear_model\\_sag.py:350: ConvergenceWarning: The max_iter was reached which means the coef_ did not converge\n",
      "  warnings.warn(\n"
     ]
    }
   ],
   "execution_count": 79
  },
  {
   "metadata": {
    "ExecuteTime": {
     "end_time": "2024-10-08T21:33:29.055544Z",
     "start_time": "2024-10-08T21:33:28.062240Z"
    }
   },
   "cell_type": "code",
   "source": [
    "# Instanciar o modelo Random Forest\n",
    "rf = RandomForestClassifier(n_estimators=500, min_samples_leaf=15, random_state=42)\n",
    "\n",
    "# Treinar o modelo com os dados subamostrados\n",
    "rf.fit(X_train_under, y_train_under)\n",
    "\n",
    "# Fazer previsões no conjunto de teste\n",
    "y_pred = rf.predict(X_test)\n",
    "\n",
    "# Avaliar o desempenho do modelo\n",
    "accuracy = accuracy_score(y_test, y_pred)\n",
    "conf_matrix = confusion_matrix(y_test, y_pred)\n",
    "class_report = classification_report(y_test, y_pred)\n",
    "\n",
    "# Exibir os resultados\n",
    "print(f\"Acurácia: {accuracy}\")\n",
    "print(f\"Matriz de Confusão:\\n{conf_matrix}\")\n",
    "print(f\"Relatório de Classificação:\\n{class_report}\")"
   ],
   "id": "b5415db581b43eaa",
   "outputs": [
    {
     "name": "stdout",
     "output_type": "stream",
     "text": [
      "Acurácia: 0.5885436166229876\n",
      "Matriz de Confusão:\n",
      "[[1495 1059]\n",
      " [  40   77]]\n",
      "Relatório de Classificação:\n",
      "              precision    recall  f1-score   support\n",
      "\n",
      "           0       0.97      0.59      0.73      2554\n",
      "           1       0.07      0.66      0.12       117\n",
      "\n",
      "    accuracy                           0.59      2671\n",
      "   macro avg       0.52      0.62      0.43      2671\n",
      "weighted avg       0.93      0.59      0.70      2671\n",
      "\n"
     ]
    }
   ],
   "execution_count": 80
  },
  {
   "metadata": {
    "ExecuteTime": {
     "end_time": "2024-10-08T21:55:10.267928Z",
     "start_time": "2024-10-08T21:55:10.000245Z"
    }
   },
   "cell_type": "code",
   "source": [
    "# Usando o XGBoost\n",
    "xgb_model = XGBClassifier(scale_pos_weight=12)\n",
    "xgb_model.fit(X_train, y_train)\n",
    "\n",
    "# Previsões\n",
    "y_pred = xgb_model.predict(X_test)\n",
    "\n",
    "# Avaliar o desempenho do modelo\n",
    "accuracy = accuracy_score(y_test, y_pred)\n",
    "conf_matrix = confusion_matrix(y_test, y_pred)\n",
    "class_report = classification_report(y_test, y_pred)\n",
    "\n",
    "# Exibir os resultados\n",
    "print(f\"Acurácia: {accuracy}\")\n",
    "print(f\"Matriz de Confusão:\\n{conf_matrix}\")\n",
    "print(f\"Relatório de Classificação:\\n{class_report}\")"
   ],
   "id": "4dc765d091930bda",
   "outputs": [
    {
     "name": "stdout",
     "output_type": "stream",
     "text": [
      "Acurácia: 0.8629726694122052\n",
      "Matriz de Confusão:\n",
      "[[2276  278]\n",
      " [  88   29]]\n",
      "Relatório de Classificação:\n",
      "              precision    recall  f1-score   support\n",
      "\n",
      "           0       0.96      0.89      0.93      2554\n",
      "           1       0.09      0.25      0.14       117\n",
      "\n",
      "    accuracy                           0.86      2671\n",
      "   macro avg       0.53      0.57      0.53      2671\n",
      "weighted avg       0.92      0.86      0.89      2671\n",
      "\n"
     ]
    }
   ],
   "execution_count": 95
  },
  {
   "metadata": {
    "ExecuteTime": {
     "end_time": "2024-10-08T21:57:06.028294Z",
     "start_time": "2024-10-08T21:57:05.777473Z"
    }
   },
   "cell_type": "code",
   "source": [
    "# Usando o XGBoost\n",
    "xgb_model = XGBClassifier()\n",
    "xgb_model.fit(X_train_smote, y_train_smote)\n",
    "\n",
    "# Previsões\n",
    "y_pred = xgb_model.predict(X_test)\n",
    "\n",
    "# Avaliar o desempenho do modelo\n",
    "accuracy = accuracy_score(y_test, y_pred)\n",
    "conf_matrix = confusion_matrix(y_test, y_pred)\n",
    "class_report = classification_report(y_test, y_pred)\n",
    "\n",
    "# Exibir os resultados\n",
    "print(f\"Acurácia: {accuracy}\")\n",
    "print(f\"Matriz de Confusão:\\n{conf_matrix}\")\n",
    "print(f\"Relatório de Classificação:\\n{class_report}\")"
   ],
   "id": "80b8028414fe81f1",
   "outputs": [
    {
     "name": "stdout",
     "output_type": "stream",
     "text": [
      "Acurácia: 0.7281916885061774\n",
      "Matriz de Confusão:\n",
      "[[1899  655]\n",
      " [  71   46]]\n",
      "Relatório de Classificação:\n",
      "              precision    recall  f1-score   support\n",
      "\n",
      "           0       0.96      0.74      0.84      2554\n",
      "           1       0.07      0.39      0.11       117\n",
      "\n",
      "    accuracy                           0.73      2671\n",
      "   macro avg       0.51      0.57      0.48      2671\n",
      "weighted avg       0.92      0.73      0.81      2671\n",
      "\n"
     ]
    }
   ],
   "execution_count": 99
  },
  {
   "metadata": {
    "ExecuteTime": {
     "end_time": "2024-10-08T21:57:31.698272Z",
     "start_time": "2024-10-08T21:57:31.580961Z"
    }
   },
   "cell_type": "code",
   "source": [
    "# Usando o XGBoost\n",
    "xgb_model = XGBClassifier()\n",
    "xgb_model.fit(X_train_under, y_train_under)\n",
    "\n",
    "# Previsões\n",
    "y_pred = xgb_model.predict(X_test)\n",
    "\n",
    "# Avaliar o desempenho do modelo\n",
    "accuracy = accuracy_score(y_test, y_pred)\n",
    "conf_matrix = confusion_matrix(y_test, y_pred)\n",
    "class_report = classification_report(y_test, y_pred)\n",
    "\n",
    "# Exibir os resultados\n",
    "print(f\"Acurácia: {accuracy}\")\n",
    "print(f\"Matriz de Confusão:\\n{conf_matrix}\")\n",
    "print(f\"Relatório de Classificação:\\n{class_report}\")"
   ],
   "id": "ab3413a06b71ce12",
   "outputs": [
    {
     "name": "stdout",
     "output_type": "stream",
     "text": [
      "Acurácia: 0.6001497566454511\n",
      "Matriz de Confusão:\n",
      "[[1535 1019]\n",
      " [  49   68]]\n",
      "Relatório de Classificação:\n",
      "              precision    recall  f1-score   support\n",
      "\n",
      "           0       0.97      0.60      0.74      2554\n",
      "           1       0.06      0.58      0.11       117\n",
      "\n",
      "    accuracy                           0.60      2671\n",
      "   macro avg       0.52      0.59      0.43      2671\n",
      "weighted avg       0.93      0.60      0.71      2671\n",
      "\n"
     ]
    }
   ],
   "execution_count": 100
  },
  {
   "cell_type": "code",
   "id": "b18358ccad56f257",
   "metadata": {
    "ExecuteTime": {
     "end_time": "2024-10-08T21:59:53.008200Z",
     "start_time": "2024-10-08T21:59:49.637879Z"
    }
   },
   "source": [
    "ada_model = AdaBoostClassifier(n_estimators=200)\n",
    "ada_model.fit(X_train, y_train)\n",
    "\n",
    "y_pred = ada_model.predict(X_test)\n",
    "\n",
    "# Avaliar o desempenho do modelo\n",
    "accuracy = accuracy_score(y_test, y_pred)\n",
    "conf_matrix = confusion_matrix(y_test, y_pred)\n",
    "class_report = classification_report(y_test, y_pred)\n",
    "\n",
    "# Exibir os resultados\n",
    "print(f\"Acurácia: {accuracy}\")\n",
    "print(f\"Matriz de Confusão:\\n{conf_matrix}\")\n",
    "print(f\"Relatório de Classificação:\\n{class_report}\")\n"
   ],
   "outputs": [
    {
     "name": "stdout",
     "output_type": "stream",
     "text": [
      "Acurácia: 0.9558217895919131\n",
      "Matriz de Confusão:\n",
      "[[2553    1]\n",
      " [ 117    0]]\n",
      "Relatório de Classificação:\n",
      "              precision    recall  f1-score   support\n",
      "\n",
      "           0       0.96      1.00      0.98      2554\n",
      "           1       0.00      0.00      0.00       117\n",
      "\n",
      "    accuracy                           0.96      2671\n",
      "   macro avg       0.48      0.50      0.49      2671\n",
      "weighted avg       0.91      0.96      0.93      2671\n",
      "\n"
     ]
    }
   ],
   "execution_count": 103
  },
  {
   "cell_type": "code",
   "id": "38595507b46f2b47",
   "metadata": {
    "ExecuteTime": {
     "end_time": "2024-10-08T22:00:39.787452Z",
     "start_time": "2024-10-08T22:00:39.200129Z"
    }
   },
   "source": [
    "ada_model = AdaBoostClassifier(n_estimators=200)\n",
    "ada_model.fit(X_train_under, y_train_under)\n",
    "\n",
    "y_pred = ada_model.predict(X_test)\n",
    "\n",
    "# Avaliar o desempenho do modelo\n",
    "accuracy = accuracy_score(y_test, y_pred)\n",
    "conf_matrix = confusion_matrix(y_test, y_pred)\n",
    "class_report = classification_report(y_test, y_pred)\n",
    "\n",
    "# Exibir os resultados\n",
    "print(f\"Acurácia: {accuracy}\")\n",
    "print(f\"Matriz de Confusão:\\n{conf_matrix}\")\n",
    "print(f\"Relatório de Classificação:\\n{class_report}\")"
   ],
   "outputs": [
    {
     "name": "stdout",
     "output_type": "stream",
     "text": [
      "Acurácia: 0.6038936727817297\n",
      "Matriz de Confusão:\n",
      "[[1539 1015]\n",
      " [  43   74]]\n",
      "Relatório de Classificação:\n",
      "              precision    recall  f1-score   support\n",
      "\n",
      "           0       0.97      0.60      0.74      2554\n",
      "           1       0.07      0.63      0.12       117\n",
      "\n",
      "    accuracy                           0.60      2671\n",
      "   macro avg       0.52      0.62      0.43      2671\n",
      "weighted avg       0.93      0.60      0.72      2671\n",
      "\n"
     ]
    }
   ],
   "execution_count": 106
  },
  {
   "cell_type": "code",
   "id": "e513d50005588b42",
   "metadata": {
    "ExecuteTime": {
     "end_time": "2024-10-08T22:01:12.560448Z",
     "start_time": "2024-10-08T22:01:08.767770Z"
    }
   },
   "source": [
    "ada_model = AdaBoostClassifier(n_estimators=300)\n",
    "ada_model.fit(X_train_smote, y_train_smote)\n",
    "\n",
    "y_pred = ada_model.predict(X_test)\n",
    "\n",
    "# Avaliar o desempenho do modelo\n",
    "accuracy = accuracy_score(y_test, y_pred)\n",
    "conf_matrix = confusion_matrix(y_test, y_pred)\n",
    "class_report = classification_report(y_test, y_pred)\n",
    "\n",
    "# Exibir os resultados\n",
    "print(f\"Acurácia: {accuracy}\")\n",
    "print(f\"Matriz de Confusão:\\n{conf_matrix}\")\n",
    "print(f\"Relatório de Classificação:\\n{class_report}\")"
   ],
   "outputs": [
    {
     "name": "stdout",
     "output_type": "stream",
     "text": [
      "Acurácia: 0.8944215649569449\n",
      "Matriz de Confusão:\n",
      "[[2371  183]\n",
      " [  99   18]]\n",
      "Relatório de Classificação:\n",
      "              precision    recall  f1-score   support\n",
      "\n",
      "           0       0.96      0.93      0.94      2554\n",
      "           1       0.09      0.15      0.11       117\n",
      "\n",
      "    accuracy                           0.89      2671\n",
      "   macro avg       0.52      0.54      0.53      2671\n",
      "weighted avg       0.92      0.89      0.91      2671\n",
      "\n"
     ]
    }
   ],
   "execution_count": 108
  }
 ],
 "metadata": {
  "kernelspec": {
   "display_name": "Python 3 (ipykernel)",
   "language": "python",
   "name": "python3"
  },
  "language_info": {
   "codemirror_mode": {
    "name": "ipython",
    "version": 3
   },
   "file_extension": ".py",
   "mimetype": "text/x-python",
   "name": "python",
   "nbconvert_exporter": "python",
   "pygments_lexer": "ipython3",
   "version": "3.11.9"
  }
 },
 "nbformat": 4,
 "nbformat_minor": 5
}
