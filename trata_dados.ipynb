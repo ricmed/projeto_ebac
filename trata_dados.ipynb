{
 "cells": [
  {
   "cell_type": "markdown",
   "id": "43089ea8a0b11c10",
   "metadata": {},
   "source": [
    "# Tratamento dos dados\n",
    "*Objetivos*: \n",
    "- Tratar o arquivo NINDINET.DBF para que seja possível a análise dos dados.\n",
    "- Gerar um arquivo painel.parquet que será consumido pelo Streamlit"
   ]
  },
  {
   "cell_type": "code",
   "id": "initial_id",
   "metadata": {
    "collapsed": true,
    "jupyter": {
     "outputs_hidden": true
    },
    "ExecuteTime": {
     "end_time": "2024-10-08T00:04:49.730003Z",
     "start_time": "2024-10-08T00:04:49.725056Z"
    }
   },
   "source": [
    "import os\n",
    "import pandas as pd\n",
    "\n",
    "from imblearn.over_sampling import SMOTE\n",
    "from imblearn.under_sampling import RandomUnderSampler\n",
    "\n",
    "from xgboost import XGBClassifier\n",
    "\n",
    "from sklearn.model_selection import train_test_split\n",
    "from sklearn.linear_model import LogisticRegression\n",
    "from sklearn.impute import SimpleImputer\n",
    "from sklearn.impute import KNNImputer\n",
    "\n",
    "from sklearn.metrics import accuracy_score, confusion_matrix, classification_report\n",
    "\n",
    "from filtros import agravo, ano, faixa_etaria, raca, sexo\n"
   ],
   "outputs": [],
   "execution_count": 173
  },
  {
   "cell_type": "markdown",
   "id": "6e0bd429f7c2f7a6",
   "metadata": {},
   "source": [
    "## Funções Auxiliares"
   ]
  },
  {
   "cell_type": "code",
   "id": "bd5f92457ca34689",
   "metadata": {
    "ExecuteTime": {
     "end_time": "2024-10-07T21:34:54.476653Z",
     "start_time": "2024-10-07T21:34:54.468118Z"
    }
   },
   "source": [
    "# Função para retornar os valores únicos das colunas do df\n",
    "def valores_unicos(df):\n",
    "    for coluna in df.columns:\n",
    "        print(f'{coluna}: {df[coluna].unique()}')\n",
    "        print()\n",
    "\n",
    "# valores_unicos(df[colunas_painel])\n",
    "\n",
    "# Função para verificar a existência de valores nulos nas colunas do df\n",
    "def verifica_nulos(df):\n",
    "    for coluna in df.columns:\n",
    "        print(f'{coluna}: {df[coluna].isnull().sum()}')\n",
    "        print()\n",
    "\n",
    "# Função para verificar a porcentagem de nulos nas colunas do df\n",
    "def porcentagem_nulos(df):\n",
    "    for coluna in df.columns:\n",
    "        print(f'{coluna}: {df[coluna].isnull().sum() / len(df) * 100:.2f}%')\n",
    "\n",
    "# Função para converter a idade\n",
    "def converter_idade(idade):\n",
    "    faixas_etarias = {\n",
    "        (0, 999): 'IGNORADO',\n",
    "        (1000, 3999): '00 a 01 ano',\n",
    "        (4000, 4004): '01 a 04 anos',\n",
    "        (4005, 4009): '05 a 09 anos',\n",
    "        (4010, 4014): '10 a 14 anos',\n",
    "        (4015, 4019): '15 a 19 anos',\n",
    "        (4020, 4029): '20 a 29 anos',\n",
    "        (4030, 4039): '30 a 39 anos',\n",
    "        (4040, 4049): '40 a 49 anos',\n",
    "        (4050, 4059): '50 a 59 anos',\n",
    "        (4060, 4069): '60 a 69 anos',\n",
    "        (4070, 4079): '70 a 79 anos',\n",
    "        (4080, 4999): 'Mais de 80 anos'\n",
    "    }\n",
    "\n",
    "    for (inicio, fim), faixa in faixas_etarias.items():\n",
    "        if inicio <= idade <= fim:\n",
    "            return faixa\n",
    "    return 'IGNORADO'"
   ],
   "outputs": [],
   "execution_count": 105
  },
  {
   "metadata": {
    "ExecuteTime": {
     "end_time": "2024-10-07T21:34:55.397797Z",
     "start_time": "2024-10-07T21:34:55.390874Z"
    }
   },
   "cell_type": "code",
   "source": [
    "# Todads as colunas do df\n",
    "colunas_df = ['NU_NOTIFIC', 'TP_NOT', 'ID_AGRAVO', 'CS_SUSPEIT','IN_AIDS', 'CS_MENING',\n",
    "           'DT_NOTIFIC', 'SEM_NOT', 'NU_ANO', 'SG_UF_NOT', 'ID_MUNICIP', 'ID_REGIONA',\n",
    "           'ID_UNIDADE', 'DT_SIN_PRI', 'SEM_PRI', 'DT_NASC', 'NU_IDADE_N', 'CS_SEXO', \n",
    "           'CS_GESTANT', 'CS_RACA', 'CS_ESCOL_N', 'ID_CNS_SUS', 'SG_UF', 'ID_MN_RESI', \n",
    "           'ID_RG_RESI', 'ID_DISTRIT', 'ID_BAIRRO', 'NM_BAIRRO', 'NU_CEP', 'NU_DDD_TEL', \n",
    "           'NU_TELEFON', 'CS_ZONA', 'ID_PAIS', 'NDUPLIC_N', 'IN_VINCULA', 'DT_INVEST', \n",
    "           'ID_OCUPA_N', 'CLASSI_FIN', 'CRITERIO', 'TPAUTOCTO', 'COUFINF', 'COPAISINF',\n",
    "           'COMUNINF', 'CODISINF', 'CO_BAINFC', 'NOBAIINF', 'DOENCA_TRA', 'EVOLUCAO',\n",
    "           'DT_OBITO', 'DT_ENCERRA', 'DT_DIGITA', 'DT_TRANSUS', 'DT_TRANSDM', 'DT_TRANSSM',\n",
    "           'DT_TRANSRM', 'DT_TRANSRS', 'DT_TRANSSE', 'NU_LOTE_V', 'NU_LOTE_H', 'CS_FLXRET', \n",
    "           'FLXRECEBI', 'TPUNINOT']\n",
    "\n",
    "# Colunas que serão analisadas\n",
    "colunas_painel = ['ID_AGRAVO', 'DT_NOTIFIC', 'DT_SIN_PRI', 'ID_MN_RESI', 'CS_SEXO', 'CS_GESTANT', 'CS_RACA', 'CS_ESCOL_N', 'DT_OBITO', 'NU_IDADE_N']"
   ],
   "id": "ebda85458ddddb56",
   "outputs": [],
   "execution_count": 106
  },
  {
   "metadata": {},
   "cell_type": "markdown",
   "source": [
    "## Convertendo o arquivo .dbf\n",
    "- Converter o arquivo .xls para .csv"
   ],
   "id": "7c21baa3c25060cc"
  },
  {
   "metadata": {
    "ExecuteTime": {
     "end_time": "2024-10-07T21:34:57.222696Z",
     "start_time": "2024-10-07T21:34:57.218947Z"
    }
   },
   "cell_type": "code",
   "source": [
    "# Converter de .dbf para .csv\n",
    "# dbf = DBF('dbf/NINDINET.DBF')\n",
    "# df = pd.DataFrame(iter(dbf))\n",
    "# df.to_csv('NINDINET.csv', index=False)\n",
    "# \n",
    "# df.head()"
   ],
   "id": "ac36bf30db974ecb",
   "outputs": [],
   "execution_count": 107
  },
  {
   "metadata": {},
   "cell_type": "markdown",
   "source": [
    "- CASO JÁ TENHA CRIADO O ARQUIVO .CSV, PODE EXECUTAR À PARTIR DAQUI\n",
    "- Descomentar o código abaixo e comentar o código acima"
   ],
   "id": "f8e2f44a00adad88"
  },
  {
   "metadata": {
    "ExecuteTime": {
     "end_time": "2024-10-07T21:35:06.177304Z",
     "start_time": "2024-10-07T21:34:59.399368Z"
    }
   },
   "cell_type": "code",
   "source": [
    "# Carrega o .csv salvo\n",
    "arquivo_csv = 'NINDINET.csv'\n",
    "\n",
    "df = pd.read_csv(arquivo_csv, usecols=colunas_painel, sep=',', low_memory=False)\n",
    "\n",
    "df.head()"
   ],
   "id": "717d3ace8ae47942",
   "outputs": [
    {
     "data": {
      "text/plain": [
       "  ID_AGRAVO  DT_NOTIFIC  DT_SIN_PRI  NU_IDADE_N CS_SEXO  CS_GESTANT  CS_RACA  \\\n",
       "0       A90  2007-02-01  2007-01-23        4029       M         6.0      4.0   \n",
       "1       A90  2007-02-22  2007-02-22        4018       F         9.0      9.0   \n",
       "2       A90  2008-02-07  2008-02-02        4002       M         6.0      4.0   \n",
       "3       A90  2008-01-06  2008-01-03        4025       F         5.0      4.0   \n",
       "4       X29  2008-01-09  2008-01-09        4047       M         6.0      4.0   \n",
       "\n",
       "   CS_ESCOL_N  ID_MN_RESI DT_OBITO  \n",
       "0         2.0    150304.0      NaN  \n",
       "1         9.0    150506.0      NaN  \n",
       "2        10.0    150330.0      NaN  \n",
       "3         6.0    150553.0      NaN  \n",
       "4         9.0    150450.0      NaN  "
      ],
      "text/html": [
       "<div>\n",
       "<style scoped>\n",
       "    .dataframe tbody tr th:only-of-type {\n",
       "        vertical-align: middle;\n",
       "    }\n",
       "\n",
       "    .dataframe tbody tr th {\n",
       "        vertical-align: top;\n",
       "    }\n",
       "\n",
       "    .dataframe thead th {\n",
       "        text-align: right;\n",
       "    }\n",
       "</style>\n",
       "<table border=\"1\" class=\"dataframe\">\n",
       "  <thead>\n",
       "    <tr style=\"text-align: right;\">\n",
       "      <th></th>\n",
       "      <th>ID_AGRAVO</th>\n",
       "      <th>DT_NOTIFIC</th>\n",
       "      <th>DT_SIN_PRI</th>\n",
       "      <th>NU_IDADE_N</th>\n",
       "      <th>CS_SEXO</th>\n",
       "      <th>CS_GESTANT</th>\n",
       "      <th>CS_RACA</th>\n",
       "      <th>CS_ESCOL_N</th>\n",
       "      <th>ID_MN_RESI</th>\n",
       "      <th>DT_OBITO</th>\n",
       "    </tr>\n",
       "  </thead>\n",
       "  <tbody>\n",
       "    <tr>\n",
       "      <th>0</th>\n",
       "      <td>A90</td>\n",
       "      <td>2007-02-01</td>\n",
       "      <td>2007-01-23</td>\n",
       "      <td>4029</td>\n",
       "      <td>M</td>\n",
       "      <td>6.0</td>\n",
       "      <td>4.0</td>\n",
       "      <td>2.0</td>\n",
       "      <td>150304.0</td>\n",
       "      <td>NaN</td>\n",
       "    </tr>\n",
       "    <tr>\n",
       "      <th>1</th>\n",
       "      <td>A90</td>\n",
       "      <td>2007-02-22</td>\n",
       "      <td>2007-02-22</td>\n",
       "      <td>4018</td>\n",
       "      <td>F</td>\n",
       "      <td>9.0</td>\n",
       "      <td>9.0</td>\n",
       "      <td>9.0</td>\n",
       "      <td>150506.0</td>\n",
       "      <td>NaN</td>\n",
       "    </tr>\n",
       "    <tr>\n",
       "      <th>2</th>\n",
       "      <td>A90</td>\n",
       "      <td>2008-02-07</td>\n",
       "      <td>2008-02-02</td>\n",
       "      <td>4002</td>\n",
       "      <td>M</td>\n",
       "      <td>6.0</td>\n",
       "      <td>4.0</td>\n",
       "      <td>10.0</td>\n",
       "      <td>150330.0</td>\n",
       "      <td>NaN</td>\n",
       "    </tr>\n",
       "    <tr>\n",
       "      <th>3</th>\n",
       "      <td>A90</td>\n",
       "      <td>2008-01-06</td>\n",
       "      <td>2008-01-03</td>\n",
       "      <td>4025</td>\n",
       "      <td>F</td>\n",
       "      <td>5.0</td>\n",
       "      <td>4.0</td>\n",
       "      <td>6.0</td>\n",
       "      <td>150553.0</td>\n",
       "      <td>NaN</td>\n",
       "    </tr>\n",
       "    <tr>\n",
       "      <th>4</th>\n",
       "      <td>X29</td>\n",
       "      <td>2008-01-09</td>\n",
       "      <td>2008-01-09</td>\n",
       "      <td>4047</td>\n",
       "      <td>M</td>\n",
       "      <td>6.0</td>\n",
       "      <td>4.0</td>\n",
       "      <td>9.0</td>\n",
       "      <td>150450.0</td>\n",
       "      <td>NaN</td>\n",
       "    </tr>\n",
       "  </tbody>\n",
       "</table>\n",
       "</div>"
      ]
     },
     "execution_count": 108,
     "metadata": {},
     "output_type": "execute_result"
    }
   ],
   "execution_count": 108
  },
  {
   "metadata": {},
   "cell_type": "markdown",
   "source": "## Para a análise, vamos manter apenas os casos confirmados de leptospirose",
   "id": "35b6b55073b0bac"
  },
  {
   "metadata": {
    "ExecuteTime": {
     "end_time": "2024-10-07T21:35:10.197939Z",
     "start_time": "2024-10-07T21:35:10.086671Z"
    }
   },
   "cell_type": "code",
   "source": [
    "# Manter somente ID_AGRAVO == A279\n",
    "df = df[df['ID_AGRAVO'] == 'A279']\n",
    "\n",
    "# Remover a coluna ID_AGRAVO\n",
    "df = df.drop(columns=['ID_AGRAVO'])"
   ],
   "id": "d62dc06ed692bf97",
   "outputs": [],
   "execution_count": 109
  },
  {
   "metadata": {
    "ExecuteTime": {
     "end_time": "2024-10-07T21:35:11.491514Z",
     "start_time": "2024-10-07T21:35:11.486747Z"
    }
   },
   "cell_type": "code",
   "source": [
    "total_de_casos = len(df)\n",
    "\n",
    "print(f'Temos um total de {total_de_casos} casos de leptospirose.')"
   ],
   "id": "8358321151cd9811",
   "outputs": [
    {
     "name": "stdout",
     "output_type": "stream",
     "text": [
      "Temos um total de 13353 casos de leptospirose.\n"
     ]
    }
   ],
   "execution_count": 110
  },
  {
   "cell_type": "markdown",
   "id": "b51f133d9aeeb61f",
   "metadata": {},
   "source": [
    "## Tratamento de valores nulos"
   ]
  },
  {
   "cell_type": "code",
   "id": "eb3e23f2047d52e2",
   "metadata": {
    "ExecuteTime": {
     "end_time": "2024-10-07T21:35:13.600718Z",
     "start_time": "2024-10-07T21:35:13.588709Z"
    }
   },
   "source": "porcentagem_nulos(df)",
   "outputs": [
    {
     "name": "stdout",
     "output_type": "stream",
     "text": [
      "DT_NOTIFIC: 0.00%\n",
      "DT_SIN_PRI: 0.00%\n",
      "NU_IDADE_N: 0.00%\n",
      "CS_SEXO: 0.00%\n",
      "CS_GESTANT: 0.00%\n",
      "CS_RACA: 4.43%\n",
      "CS_ESCOL_N: 16.45%\n",
      "ID_MN_RESI: 0.02%\n",
      "DT_OBITO: 95.63%\n"
     ]
    }
   ],
   "execution_count": 111
  },
  {
   "metadata": {},
   "cell_type": "markdown",
   "source": "### Utilizar o KNNImputer para preencher os valores nulos",
   "id": "ab6d2dde30ae69c7"
  },
  {
   "metadata": {
    "ExecuteTime": {
     "end_time": "2024-10-07T21:35:16.452001Z",
     "start_time": "2024-10-07T21:35:16.439424Z"
    }
   },
   "cell_type": "code",
   "source": "df.info()",
   "id": "74b6151d5d538f17",
   "outputs": [
    {
     "name": "stdout",
     "output_type": "stream",
     "text": [
      "<class 'pandas.core.frame.DataFrame'>\n",
      "Index: 13353 entries, 2261 to 1661182\n",
      "Data columns (total 9 columns):\n",
      " #   Column      Non-Null Count  Dtype  \n",
      "---  ------      --------------  -----  \n",
      " 0   DT_NOTIFIC  13353 non-null  object \n",
      " 1   DT_SIN_PRI  13353 non-null  object \n",
      " 2   NU_IDADE_N  13353 non-null  int64  \n",
      " 3   CS_SEXO     13353 non-null  object \n",
      " 4   CS_GESTANT  13353 non-null  float64\n",
      " 5   CS_RACA     12762 non-null  float64\n",
      " 6   CS_ESCOL_N  11156 non-null  float64\n",
      " 7   ID_MN_RESI  13350 non-null  float64\n",
      " 8   DT_OBITO    583 non-null    object \n",
      "dtypes: float64(4), int64(1), object(4)\n",
      "memory usage: 1.0+ MB\n"
     ]
    }
   ],
   "execution_count": 112
  },
  {
   "metadata": {
    "ExecuteTime": {
     "end_time": "2024-10-07T21:35:20.146592Z",
     "start_time": "2024-10-07T21:35:18.449592Z"
    }
   },
   "cell_type": "code",
   "source": [
    "imputer = KNNImputer(n_neighbors=10)\n",
    "\n",
    "# Utilizar o KNNImputer para preencher os valores nulos da coluna CS_RACA\n",
    "df['CS_RACA'] = imputer.fit_transform(df[['CS_RACA']])\n",
    "\n",
    "# Utilizar o KNNImputer para preencher os valores nulos da coluna CS_ESCOL_N\n",
    "df['CS_ESCOL_N'] = imputer.fit_transform(df[['CS_ESCOL_N']])"
   ],
   "id": "470501c7924172d9",
   "outputs": [],
   "execution_count": 113
  },
  {
   "metadata": {},
   "cell_type": "markdown",
   "source": "### Remover os registros das colunas com baixa quantidade de valores nulos",
   "id": "aa79cb04ca0298e4"
  },
  {
   "metadata": {
    "ExecuteTime": {
     "end_time": "2024-10-07T21:35:25.405115Z",
     "start_time": "2024-10-07T21:35:25.396197Z"
    }
   },
   "cell_type": "code",
   "source": [
    "# Removendo as linhas nulas na coluna ID_MN_RESI\n",
    "df = df.dropna(subset=['ID_MN_RESI'])"
   ],
   "id": "93ce9b0b09d4c27a",
   "outputs": [],
   "execution_count": 114
  },
  {
   "metadata": {
    "ExecuteTime": {
     "end_time": "2024-10-07T21:35:56.726672Z",
     "start_time": "2024-10-07T21:35:56.715156Z"
    }
   },
   "cell_type": "code",
   "source": "verifica_nulos(df)",
   "id": "82886974614cec81",
   "outputs": [
    {
     "name": "stdout",
     "output_type": "stream",
     "text": [
      "DT_NOTIFIC: 0\n",
      "\n",
      "DT_SIN_PRI: 0\n",
      "\n",
      "NU_IDADE_N: 0\n",
      "\n",
      "CS_SEXO: 0\n",
      "\n",
      "CS_GESTANT: 0\n",
      "\n",
      "CS_RACA: 0\n",
      "\n",
      "CS_ESCOL_N: 0\n",
      "\n",
      "ID_MN_RESI: 0\n",
      "\n",
      "DT_OBITO: 12768\n",
      "\n"
     ]
    }
   ],
   "execution_count": 115
  },
  {
   "metadata": {
    "ExecuteTime": {
     "end_time": "2024-10-07T21:36:03.376496Z",
     "start_time": "2024-10-07T21:36:03.371384Z"
    }
   },
   "cell_type": "code",
   "source": [
    "# Transformar a coluna DT_OBITO em booleana\n",
    "df['DT_OBITO'] = df['DT_OBITO'].notnull().astype(int)"
   ],
   "id": "937a2f20f91b8dfd",
   "outputs": [],
   "execution_count": 116
  },
  {
   "metadata": {
    "ExecuteTime": {
     "end_time": "2024-10-07T21:36:06.412335Z",
     "start_time": "2024-10-07T21:36:06.396364Z"
    }
   },
   "cell_type": "code",
   "source": [
    "# Transformmar as colunas DT_NOTIFIC e DT_SIN_PRI em datetime\n",
    "df['DT_NOTIFIC'] = pd.to_datetime(df['DT_NOTIFIC'], format='%Y-%m-%d')\n",
    "df['DT_SIN_PRI'] = pd.to_datetime(df['DT_SIN_PRI'], format='%Y-%m-%d')"
   ],
   "id": "fc4252832f34a2f6",
   "outputs": [],
   "execution_count": 117
  },
  {
   "metadata": {
    "ExecuteTime": {
     "end_time": "2024-10-07T21:36:08.636313Z",
     "start_time": "2024-10-07T21:36:08.615521Z"
    }
   },
   "cell_type": "code",
   "source": [
    "# Criar uma coluna chamada NU_DIAS entre a data de notificação e a data dos primeiros sintomas\n",
    "df['NU_DIAS'] = (df['DT_NOTIFIC'] - df['DT_SIN_PRI']).dt.days\n",
    "df.sample(5)"
   ],
   "id": "b9f3d47238e05b91",
   "outputs": [
    {
     "data": {
      "text/plain": [
       "        DT_NOTIFIC DT_SIN_PRI  NU_IDADE_N CS_SEXO  CS_GESTANT  CS_RACA  \\\n",
       "1237194 2011-09-28 2011-09-24        4011       M         6.0   4.0000   \n",
       "1202930 2008-10-23 2008-10-06        4044       F         5.0   3.8273   \n",
       "1560808 2013-11-27 2013-11-17        4005       F         6.0   4.0000   \n",
       "696751  2012-06-01 2012-05-23        4020       F         5.0   4.0000   \n",
       "615082  2024-04-29 2024-04-17        4009       F         6.0   5.0000   \n",
       "\n",
       "         CS_ESCOL_N  ID_MN_RESI  DT_OBITO  NU_DIAS  \n",
       "1237194    3.000000    150240.0         0        4  \n",
       "1202930    5.337755    150140.0         0       17  \n",
       "1560808   10.000000    150030.0         0       10  \n",
       "696751     2.000000    150410.0         0        9  \n",
       "615082     1.000000    150290.0         0       12  "
      ],
      "text/html": [
       "<div>\n",
       "<style scoped>\n",
       "    .dataframe tbody tr th:only-of-type {\n",
       "        vertical-align: middle;\n",
       "    }\n",
       "\n",
       "    .dataframe tbody tr th {\n",
       "        vertical-align: top;\n",
       "    }\n",
       "\n",
       "    .dataframe thead th {\n",
       "        text-align: right;\n",
       "    }\n",
       "</style>\n",
       "<table border=\"1\" class=\"dataframe\">\n",
       "  <thead>\n",
       "    <tr style=\"text-align: right;\">\n",
       "      <th></th>\n",
       "      <th>DT_NOTIFIC</th>\n",
       "      <th>DT_SIN_PRI</th>\n",
       "      <th>NU_IDADE_N</th>\n",
       "      <th>CS_SEXO</th>\n",
       "      <th>CS_GESTANT</th>\n",
       "      <th>CS_RACA</th>\n",
       "      <th>CS_ESCOL_N</th>\n",
       "      <th>ID_MN_RESI</th>\n",
       "      <th>DT_OBITO</th>\n",
       "      <th>NU_DIAS</th>\n",
       "    </tr>\n",
       "  </thead>\n",
       "  <tbody>\n",
       "    <tr>\n",
       "      <th>1237194</th>\n",
       "      <td>2011-09-28</td>\n",
       "      <td>2011-09-24</td>\n",
       "      <td>4011</td>\n",
       "      <td>M</td>\n",
       "      <td>6.0</td>\n",
       "      <td>4.0000</td>\n",
       "      <td>3.000000</td>\n",
       "      <td>150240.0</td>\n",
       "      <td>0</td>\n",
       "      <td>4</td>\n",
       "    </tr>\n",
       "    <tr>\n",
       "      <th>1202930</th>\n",
       "      <td>2008-10-23</td>\n",
       "      <td>2008-10-06</td>\n",
       "      <td>4044</td>\n",
       "      <td>F</td>\n",
       "      <td>5.0</td>\n",
       "      <td>3.8273</td>\n",
       "      <td>5.337755</td>\n",
       "      <td>150140.0</td>\n",
       "      <td>0</td>\n",
       "      <td>17</td>\n",
       "    </tr>\n",
       "    <tr>\n",
       "      <th>1560808</th>\n",
       "      <td>2013-11-27</td>\n",
       "      <td>2013-11-17</td>\n",
       "      <td>4005</td>\n",
       "      <td>F</td>\n",
       "      <td>6.0</td>\n",
       "      <td>4.0000</td>\n",
       "      <td>10.000000</td>\n",
       "      <td>150030.0</td>\n",
       "      <td>0</td>\n",
       "      <td>10</td>\n",
       "    </tr>\n",
       "    <tr>\n",
       "      <th>696751</th>\n",
       "      <td>2012-06-01</td>\n",
       "      <td>2012-05-23</td>\n",
       "      <td>4020</td>\n",
       "      <td>F</td>\n",
       "      <td>5.0</td>\n",
       "      <td>4.0000</td>\n",
       "      <td>2.000000</td>\n",
       "      <td>150410.0</td>\n",
       "      <td>0</td>\n",
       "      <td>9</td>\n",
       "    </tr>\n",
       "    <tr>\n",
       "      <th>615082</th>\n",
       "      <td>2024-04-29</td>\n",
       "      <td>2024-04-17</td>\n",
       "      <td>4009</td>\n",
       "      <td>F</td>\n",
       "      <td>6.0</td>\n",
       "      <td>5.0000</td>\n",
       "      <td>1.000000</td>\n",
       "      <td>150290.0</td>\n",
       "      <td>0</td>\n",
       "      <td>12</td>\n",
       "    </tr>\n",
       "  </tbody>\n",
       "</table>\n",
       "</div>"
      ]
     },
     "execution_count": 118,
     "metadata": {},
     "output_type": "execute_result"
    }
   ],
   "execution_count": 118
  },
  {
   "metadata": {
    "ExecuteTime": {
     "end_time": "2024-10-07T21:36:11.599484Z",
     "start_time": "2024-10-07T21:36:11.593034Z"
    }
   },
   "cell_type": "code",
   "source": [
    "# Remover as colunas DT_NOTIFIC e DT_SIN_PRI\n",
    "df = df.drop(columns=['DT_NOTIFIC', 'DT_SIN_PRI'])"
   ],
   "id": "b726f49533862a6a",
   "outputs": [],
   "execution_count": 119
  },
  {
   "metadata": {
    "ExecuteTime": {
     "end_time": "2024-10-07T21:36:21.248506Z",
     "start_time": "2024-10-07T21:36:21.198694Z"
    }
   },
   "cell_type": "code",
   "outputs": [
    {
     "data": {
      "text/plain": [
       "        CS_SEXO  CS_GESTANT  CS_RACA  CS_ESCOL_N  ID_MN_RESI DT_OBITO  \\\n",
       "722214        F         5.0      4.0    3.000000    150240.0        0   \n",
       "533198        M         6.0      4.0    5.337755    150240.0        0   \n",
       "696752        F         6.0      4.0    1.000000    150410.0        0   \n",
       "1589138       F         5.0      4.0    5.337755    150240.0        0   \n",
       "464431        M         6.0      4.0    3.000000    150240.0        0   \n",
       "\n",
       "         NU_DIAS  FAIXA_ETARIA  \n",
       "722214         1  30 a 39 anos  \n",
       "533198         2  30 a 39 anos  \n",
       "696752         7  10 a 14 anos  \n",
       "1589138        0  30 a 39 anos  \n",
       "464431         4  30 a 39 anos  "
      ],
      "text/html": [
       "<div>\n",
       "<style scoped>\n",
       "    .dataframe tbody tr th:only-of-type {\n",
       "        vertical-align: middle;\n",
       "    }\n",
       "\n",
       "    .dataframe tbody tr th {\n",
       "        vertical-align: top;\n",
       "    }\n",
       "\n",
       "    .dataframe thead th {\n",
       "        text-align: right;\n",
       "    }\n",
       "</style>\n",
       "<table border=\"1\" class=\"dataframe\">\n",
       "  <thead>\n",
       "    <tr style=\"text-align: right;\">\n",
       "      <th></th>\n",
       "      <th>CS_SEXO</th>\n",
       "      <th>CS_GESTANT</th>\n",
       "      <th>CS_RACA</th>\n",
       "      <th>CS_ESCOL_N</th>\n",
       "      <th>ID_MN_RESI</th>\n",
       "      <th>DT_OBITO</th>\n",
       "      <th>NU_DIAS</th>\n",
       "      <th>FAIXA_ETARIA</th>\n",
       "    </tr>\n",
       "  </thead>\n",
       "  <tbody>\n",
       "    <tr>\n",
       "      <th>722214</th>\n",
       "      <td>F</td>\n",
       "      <td>5.0</td>\n",
       "      <td>4.0</td>\n",
       "      <td>3.000000</td>\n",
       "      <td>150240.0</td>\n",
       "      <td>0</td>\n",
       "      <td>1</td>\n",
       "      <td>30 a 39 anos</td>\n",
       "    </tr>\n",
       "    <tr>\n",
       "      <th>533198</th>\n",
       "      <td>M</td>\n",
       "      <td>6.0</td>\n",
       "      <td>4.0</td>\n",
       "      <td>5.337755</td>\n",
       "      <td>150240.0</td>\n",
       "      <td>0</td>\n",
       "      <td>2</td>\n",
       "      <td>30 a 39 anos</td>\n",
       "    </tr>\n",
       "    <tr>\n",
       "      <th>696752</th>\n",
       "      <td>F</td>\n",
       "      <td>6.0</td>\n",
       "      <td>4.0</td>\n",
       "      <td>1.000000</td>\n",
       "      <td>150410.0</td>\n",
       "      <td>0</td>\n",
       "      <td>7</td>\n",
       "      <td>10 a 14 anos</td>\n",
       "    </tr>\n",
       "    <tr>\n",
       "      <th>1589138</th>\n",
       "      <td>F</td>\n",
       "      <td>5.0</td>\n",
       "      <td>4.0</td>\n",
       "      <td>5.337755</td>\n",
       "      <td>150240.0</td>\n",
       "      <td>0</td>\n",
       "      <td>0</td>\n",
       "      <td>30 a 39 anos</td>\n",
       "    </tr>\n",
       "    <tr>\n",
       "      <th>464431</th>\n",
       "      <td>M</td>\n",
       "      <td>6.0</td>\n",
       "      <td>4.0</td>\n",
       "      <td>3.000000</td>\n",
       "      <td>150240.0</td>\n",
       "      <td>0</td>\n",
       "      <td>4</td>\n",
       "      <td>30 a 39 anos</td>\n",
       "    </tr>\n",
       "  </tbody>\n",
       "</table>\n",
       "</div>"
      ]
     },
     "execution_count": 120,
     "metadata": {},
     "output_type": "execute_result"
    }
   ],
   "execution_count": 120,
   "source": [
    "# Convertar a coluna NU_IDADE_N\n",
    "df['FAIXA_ETARIA'] = df['NU_IDADE_N'].apply(converter_idade)\n",
    "\n",
    "# Excluir a coluna NU_IDADE_N\n",
    "df = df.drop(columns=['NU_IDADE_N'])"
   ],
   "id": "6b0c6b9337674100"
  },
  {
   "metadata": {
    "ExecuteTime": {
     "end_time": "2024-10-08T00:00:17.916656Z",
     "start_time": "2024-10-08T00:00:17.890321Z"
    }
   },
   "cell_type": "code",
   "source": [
    "# Converter as colunas CS_SEXO, CS_GESTANT, CS_RACA, CS_ESCOL_N, ID_MN_RESI, FAIXA_ETARIA em variáveis dummies\n",
    "df2 = pd.get_dummies(df, columns=['CS_SEXO', 'CS_GESTANT', 'CS_RACA', 'CS_ESCOL_N', 'ID_MN_RESI', 'FAIXA_ETARIA'], drop_first=True)"
   ],
   "id": "deb78cf3c5cbe599",
   "outputs": [],
   "execution_count": 167
  },
  {
   "metadata": {},
   "cell_type": "markdown",
   "source": "# Aplicar Regressão Logística ",
   "id": "350abc955d004930"
  },
  {
   "cell_type": "code",
   "id": "756477fa67d285c2",
   "metadata": {
    "ExecuteTime": {
     "end_time": "2024-10-08T00:00:26.241462Z",
     "start_time": "2024-10-08T00:00:26.220492Z"
    }
   },
   "source": [
    "# Dividir o df em treino e teste, levando em consideração a coluna DT_OBITO e o desbalanceamento dos dados\n",
    "X = df2.drop(columns=['DT_OBITO'])\n",
    "y = df2['DT_OBITO']\n",
    "\n",
    "X_train, X_test, y_train, y_test = train_test_split(X, y, test_size=0.2, stratify=y, random_state=42)\n"
   ],
   "outputs": [],
   "execution_count": 168
  },
  {
   "metadata": {
    "ExecuteTime": {
     "end_time": "2024-10-07T23:10:33.516686Z",
     "start_time": "2024-10-07T23:10:33.507026Z"
    }
   },
   "cell_type": "code",
   "source": "",
   "id": "99fd3d887275590a",
   "outputs": [
    {
     "data": {
      "text/plain": [
       "DT_OBITO\n",
       "0    10214\n",
       "1      466\n",
       "Name: count, dtype: int64"
      ]
     },
     "execution_count": 144,
     "metadata": {},
     "output_type": "execute_result"
    }
   ],
   "execution_count": 144
  },
  {
   "metadata": {
    "ExecuteTime": {
     "end_time": "2024-10-08T00:00:33.592616Z",
     "start_time": "2024-10-08T00:00:31.310829Z"
    }
   },
   "cell_type": "code",
   "source": [
    "# Regressão Logística com ajuste de pesos para lidar com classes desbalanceadas\n",
    "logreg_balanced = LogisticRegression(class_weight='balanced', max_iter=1000)\n",
    "logreg_balanced.fit(X_train, y_train)"
   ],
   "id": "50f969312bcd603c",
   "outputs": [
    {
     "data": {
      "text/plain": [
       "LogisticRegression(class_weight='balanced', max_iter=1000)"
      ],
      "text/html": [
       "<style>#sk-container-id-2 {color: black;}#sk-container-id-2 pre{padding: 0;}#sk-container-id-2 div.sk-toggleable {background-color: white;}#sk-container-id-2 label.sk-toggleable__label {cursor: pointer;display: block;width: 100%;margin-bottom: 0;padding: 0.3em;box-sizing: border-box;text-align: center;}#sk-container-id-2 label.sk-toggleable__label-arrow:before {content: \"▸\";float: left;margin-right: 0.25em;color: #696969;}#sk-container-id-2 label.sk-toggleable__label-arrow:hover:before {color: black;}#sk-container-id-2 div.sk-estimator:hover label.sk-toggleable__label-arrow:before {color: black;}#sk-container-id-2 div.sk-toggleable__content {max-height: 0;max-width: 0;overflow: hidden;text-align: left;background-color: #f0f8ff;}#sk-container-id-2 div.sk-toggleable__content pre {margin: 0.2em;color: black;border-radius: 0.25em;background-color: #f0f8ff;}#sk-container-id-2 input.sk-toggleable__control:checked~div.sk-toggleable__content {max-height: 200px;max-width: 100%;overflow: auto;}#sk-container-id-2 input.sk-toggleable__control:checked~label.sk-toggleable__label-arrow:before {content: \"▾\";}#sk-container-id-2 div.sk-estimator input.sk-toggleable__control:checked~label.sk-toggleable__label {background-color: #d4ebff;}#sk-container-id-2 div.sk-label input.sk-toggleable__control:checked~label.sk-toggleable__label {background-color: #d4ebff;}#sk-container-id-2 input.sk-hidden--visually {border: 0;clip: rect(1px 1px 1px 1px);clip: rect(1px, 1px, 1px, 1px);height: 1px;margin: -1px;overflow: hidden;padding: 0;position: absolute;width: 1px;}#sk-container-id-2 div.sk-estimator {font-family: monospace;background-color: #f0f8ff;border: 1px dotted black;border-radius: 0.25em;box-sizing: border-box;margin-bottom: 0.5em;}#sk-container-id-2 div.sk-estimator:hover {background-color: #d4ebff;}#sk-container-id-2 div.sk-parallel-item::after {content: \"\";width: 100%;border-bottom: 1px solid gray;flex-grow: 1;}#sk-container-id-2 div.sk-label:hover label.sk-toggleable__label {background-color: #d4ebff;}#sk-container-id-2 div.sk-serial::before {content: \"\";position: absolute;border-left: 1px solid gray;box-sizing: border-box;top: 0;bottom: 0;left: 50%;z-index: 0;}#sk-container-id-2 div.sk-serial {display: flex;flex-direction: column;align-items: center;background-color: white;padding-right: 0.2em;padding-left: 0.2em;position: relative;}#sk-container-id-2 div.sk-item {position: relative;z-index: 1;}#sk-container-id-2 div.sk-parallel {display: flex;align-items: stretch;justify-content: center;background-color: white;position: relative;}#sk-container-id-2 div.sk-item::before, #sk-container-id-2 div.sk-parallel-item::before {content: \"\";position: absolute;border-left: 1px solid gray;box-sizing: border-box;top: 0;bottom: 0;left: 50%;z-index: -1;}#sk-container-id-2 div.sk-parallel-item {display: flex;flex-direction: column;z-index: 1;position: relative;background-color: white;}#sk-container-id-2 div.sk-parallel-item:first-child::after {align-self: flex-end;width: 50%;}#sk-container-id-2 div.sk-parallel-item:last-child::after {align-self: flex-start;width: 50%;}#sk-container-id-2 div.sk-parallel-item:only-child::after {width: 0;}#sk-container-id-2 div.sk-dashed-wrapped {border: 1px dashed gray;margin: 0 0.4em 0.5em 0.4em;box-sizing: border-box;padding-bottom: 0.4em;background-color: white;}#sk-container-id-2 div.sk-label label {font-family: monospace;font-weight: bold;display: inline-block;line-height: 1.2em;}#sk-container-id-2 div.sk-label-container {text-align: center;}#sk-container-id-2 div.sk-container {/* jupyter's `normalize.less` sets `[hidden] { display: none; }` but bootstrap.min.css set `[hidden] { display: none !important; }` so we also need the `!important` here to be able to override the default hidden behavior on the sphinx rendered scikit-learn.org. See: https://github.com/scikit-learn/scikit-learn/issues/21755 */display: inline-block !important;position: relative;}#sk-container-id-2 div.sk-text-repr-fallback {display: none;}</style><div id=\"sk-container-id-2\" class=\"sk-top-container\"><div class=\"sk-text-repr-fallback\"><pre>LogisticRegression(class_weight=&#x27;balanced&#x27;, max_iter=1000)</pre><b>In a Jupyter environment, please rerun this cell to show the HTML representation or trust the notebook. <br />On GitHub, the HTML representation is unable to render, please try loading this page with nbviewer.org.</b></div><div class=\"sk-container\" hidden><div class=\"sk-item\"><div class=\"sk-estimator sk-toggleable\"><input class=\"sk-toggleable__control sk-hidden--visually\" id=\"sk-estimator-id-2\" type=\"checkbox\" checked><label for=\"sk-estimator-id-2\" class=\"sk-toggleable__label sk-toggleable__label-arrow\">LogisticRegression</label><div class=\"sk-toggleable__content\"><pre>LogisticRegression(class_weight=&#x27;balanced&#x27;, max_iter=1000)</pre></div></div></div></div></div>"
      ]
     },
     "execution_count": 169,
     "metadata": {},
     "output_type": "execute_result"
    }
   ],
   "execution_count": 169
  },
  {
   "metadata": {
    "ExecuteTime": {
     "end_time": "2024-10-08T00:02:25.322906Z",
     "start_time": "2024-10-08T00:02:25.292022Z"
    }
   },
   "cell_type": "code",
   "source": [
    "# Fazendo previsões e avaliando o modelo\n",
    "y_pred_balanced = logreg_balanced.predict(X_test)\n",
    "accuracy_balanced = accuracy_score(y_test, y_pred_balanced)\n",
    "conf_matrix_balanced = confusion_matrix(y_test, y_pred_balanced)\n",
    "class_report_balanced = classification_report(y_test, y_pred_balanced)\n",
    "\n",
    "print(f'Acurácia {accuracy_balanced}')\n",
    "print(f'Matriz de Confusão:\\n {conf_matrix_balanced}')\n",
    "print(class_report_balanced)\n"
   ],
   "id": "3c0de791af53919e",
   "outputs": [
    {
     "name": "stdout",
     "output_type": "stream",
     "text": [
      "Acurácia 0.6868913857677903\n",
      "Matriz de Confusão:\n",
      " [[1740  814]\n",
      " [  22   94]]\n",
      "              precision    recall  f1-score   support\n",
      "\n",
      "           0       0.99      0.68      0.81      2554\n",
      "           1       0.10      0.81      0.18       116\n",
      "\n",
      "    accuracy                           0.69      2670\n",
      "   macro avg       0.55      0.75      0.49      2670\n",
      "weighted avg       0.95      0.69      0.78      2670\n",
      "\n"
     ]
    }
   ],
   "execution_count": 172
  },
  {
   "metadata": {},
   "cell_type": "markdown",
   "source": "# Aplicar Random Forest",
   "id": "c70d2b2b696bf5c"
  },
  {
   "metadata": {
    "ExecuteTime": {
     "end_time": "2024-10-08T00:01:26.507780Z",
     "start_time": "2024-10-08T00:01:22.946420Z"
    }
   },
   "cell_type": "code",
   "source": [
    "# Random Forest\n",
    "from sklearn.ensemble import RandomForestClassifier\n",
    "\n",
    "rf = RandomForestClassifier(n_estimators=150, random_state=42, class_weight='balanced')\n",
    "rf.fit(X_train, y_train)\n",
    "\n",
    "y_pred_rf = rf.predict(X_test)\n",
    "accuracy_rf = accuracy_score(y_test, y_pred_rf)\n",
    "conf_matrix_rf = confusion_matrix(y_test, y_pred_rf)\n",
    "class_report_rf = classification_report(y_test, y_pred_rf)\n",
    "\n",
    "print(f'Acurácia {accuracy_rf}')\n",
    "print(f'Matriz de Confusão:\\n {conf_matrix_rf}')\n",
    "print(class_report_rf)\n",
    "\n"
   ],
   "id": "a9449a5e6c5f9360",
   "outputs": [
    {
     "name": "stdout",
     "output_type": "stream",
     "text": [
      "Acurácia 0.9385767790262173\n",
      "Matriz de Confusão:\n",
      " [[2498   56]\n",
      " [ 108    8]]\n",
      "              precision    recall  f1-score   support\n",
      "\n",
      "           0       0.96      0.98      0.97      2554\n",
      "           1       0.12      0.07      0.09       116\n",
      "\n",
      "    accuracy                           0.94      2670\n",
      "   macro avg       0.54      0.52      0.53      2670\n",
      "weighted avg       0.92      0.94      0.93      2670\n",
      "\n"
     ]
    }
   ],
   "execution_count": 171
  },
  {
   "metadata": {},
   "cell_type": "markdown",
   "source": "# Aplicar SMOTE para balancear as classes",
   "id": "15f54965eed6d334"
  },
  {
   "metadata": {
    "ExecuteTime": {
     "end_time": "2024-10-07T23:43:02.006727Z",
     "start_time": "2024-10-07T23:43:01.871771Z"
    }
   },
   "cell_type": "code",
   "source": [
    "# Aplicar o SMOTE no conjunto de treino\n",
    "smote = SMOTE(k_neighbors=20, random_state=42)\n",
    "X_train_smote, y_train_smote = smote.fit_resample(X_train, y_train)"
   ],
   "id": "b1cf23acaa24283f",
   "outputs": [],
   "execution_count": 159
  },
  {
   "metadata": {
    "ExecuteTime": {
     "end_time": "2024-10-07T23:21:58.574823Z",
     "start_time": "2024-10-07T23:21:58.565367Z"
    }
   },
   "cell_type": "code",
   "source": "y_test.value_counts()",
   "id": "e9ae21dd6d57d851",
   "outputs": [
    {
     "data": {
      "text/plain": [
       "DT_OBITO\n",
       "0    2554\n",
       "1     116\n",
       "Name: count, dtype: int64"
      ]
     },
     "execution_count": 148,
     "metadata": {},
     "output_type": "execute_result"
    }
   ],
   "execution_count": 148
  },
  {
   "metadata": {
    "ExecuteTime": {
     "end_time": "2024-10-07T23:43:14.734009Z",
     "start_time": "2024-10-07T23:43:14.726596Z"
    }
   },
   "cell_type": "code",
   "source": [
    "# Verificar a quantidade de amostras de cada classe\n",
    "y_train_smote.value_counts()\n"
   ],
   "id": "e40f2f5f73309606",
   "outputs": [
    {
     "data": {
      "text/plain": [
       "DT_OBITO\n",
       "0    10214\n",
       "1    10214\n",
       "Name: count, dtype: int64"
      ]
     },
     "execution_count": 160,
     "metadata": {},
     "output_type": "execute_result"
    }
   ],
   "execution_count": 160
  },
  {
   "metadata": {
    "ExecuteTime": {
     "end_time": "2024-10-07T23:44:28.404438Z",
     "start_time": "2024-10-07T23:43:27.367945Z"
    }
   },
   "cell_type": "code",
   "source": [
    "# Treinar o modelo de Regressão Logísitica após aplicar SMOTE\n",
    "logreg_smote = LogisticRegression(max_iter=1000, solver='saga', penalty='elasticnet', l1_ratio=0.4)\n",
    "logreg_smote.fit(X_train_smote, y_train_smote)\n",
    "\n",
    "# Fazer previsões no conjunto de teste\n",
    "y_pred_smote = logreg_smote.predict(X_test)\n",
    "\n",
    "# Avaliar o desempenho\n",
    "accuracy_smote = accuracy_score(y_test, y_pred_smote)\n",
    "conf_matrix_smote = confusion_matrix(y_test, y_pred_smote)\n",
    "class_report_smote = classification_report(y_test, y_pred_smote)\n",
    "\n",
    "# Exibir os resultados\n",
    "print(f\"Acurácia: {accuracy_smote}\")\n",
    "print(f\"Matriz de Confusão:\\n{conf_matrix_smote}\")\n",
    "print(f\"Relatório de Classificação:\\n{class_report_smote}\")"
   ],
   "id": "b2604a3ee277ca3f",
   "outputs": [
    {
     "name": "stdout",
     "output_type": "stream",
     "text": [
      "Acurácia: 0.8161048689138577\n",
      "Matriz de Confusão:\n",
      "[[2136  418]\n",
      " [  73   43]]\n",
      "Relatório de Classificação:\n",
      "              precision    recall  f1-score   support\n",
      "\n",
      "           0       0.97      0.84      0.90      2554\n",
      "           1       0.09      0.37      0.15       116\n",
      "\n",
      "    accuracy                           0.82      2670\n",
      "   macro avg       0.53      0.60      0.52      2670\n",
      "weighted avg       0.93      0.82      0.86      2670\n",
      "\n"
     ]
    },
    {
     "name": "stderr",
     "output_type": "stream",
     "text": [
      "C:\\Users\\ricme\\anaconda3\\envs\\ebac\\Lib\\site-packages\\sklearn\\linear_model\\_sag.py:350: ConvergenceWarning: The max_iter was reached which means the coef_ did not converge\n",
      "  warnings.warn(\n"
     ]
    }
   ],
   "execution_count": 161
  },
  {
   "metadata": {},
   "cell_type": "code",
   "outputs": [],
   "execution_count": null,
   "source": "",
   "id": "a84a7b3d355e38df"
  },
  {
   "metadata": {
    "ExecuteTime": {
     "end_time": "2024-10-07T23:37:07.703439Z",
     "start_time": "2024-10-07T23:37:00.268682Z"
    }
   },
   "cell_type": "code",
   "source": [
    "# Treinar o modelo Random Forest após o SMOTE\n",
    "rf_smote = RandomForestClassifier(n_estimators=500, random_state=42, min_samples_leaf=15)\n",
    "rf_smote.fit(X_train_smote, y_train_smote)\n",
    "\n",
    "# Fazer previsões no conjunto de teste\n",
    "y_pred_rf_smote = rf_smote.predict(X_test)\n",
    "\n",
    "# Avaliar o desempenho\n",
    "accuracy_rf_smote = accuracy_score(y_test, y_pred_rf_smote)\n",
    "conf_matrix_rf_smote = confusion_matrix(y_test, y_pred_rf_smote)\n",
    "class_report_rf_smote = classification_report(y_test, y_pred_rf_smote)\n",
    "\n",
    "\n",
    "\n",
    "# Exibir os resultados\n",
    "print(f\"Acurácia: {accuracy_rf_smote}\")\n",
    "print(f\"Matriz de Confusão:\\n{conf_matrix_rf_smote}\")\n",
    "print(f\"Relatório de Classificação:\\n{class_report_rf_smote}\")"
   ],
   "id": "aa9ab80e5c6d215d",
   "outputs": [
    {
     "name": "stdout",
     "output_type": "stream",
     "text": [
      "Acurácia: 0.8363295880149813\n",
      "Matriz de Confusão:\n",
      "[[2170  384]\n",
      " [  53   63]]\n",
      "Relatório de Classificação:\n",
      "              precision    recall  f1-score   support\n",
      "\n",
      "           0       0.98      0.85      0.91      2554\n",
      "           1       0.14      0.54      0.22       116\n",
      "\n",
      "    accuracy                           0.84      2670\n",
      "   macro avg       0.56      0.70      0.57      2670\n",
      "weighted avg       0.94      0.84      0.88      2670\n",
      "\n"
     ]
    }
   ],
   "execution_count": 156
  },
  {
   "metadata": {},
   "cell_type": "markdown",
   "source": [
    "# Aplicar Under Sampling\n",
    "\n"
   ],
   "id": "98ee454ed7311850"
  },
  {
   "metadata": {
    "ExecuteTime": {
     "end_time": "2024-10-08T00:05:43.633894Z",
     "start_time": "2024-10-08T00:05:43.610791Z"
    }
   },
   "cell_type": "code",
   "source": [
    "# Instanciar o RandomUnderSampler\n",
    "undersampler = RandomUnderSampler(random_state=42)\n",
    "\n",
    "# Aplicar o undersampling apenas no conjunto de treino\n",
    "X_train_under, y_train_under = undersampler.fit_resample(X_train, y_train)"
   ],
   "id": "16c20a3653a49834",
   "outputs": [],
   "execution_count": 174
  },
  {
   "metadata": {
    "ExecuteTime": {
     "end_time": "2024-10-08T00:12:31.669549Z",
     "start_time": "2024-10-08T00:11:58.694042Z"
    }
   },
   "cell_type": "code",
   "source": [
    "# Treinar o modelo de Regressão Logísitica após aplicar SMOTE\n",
    "logreg_smote = LogisticRegression(max_iter=1000, solver='saga', penalty='elasticnet', l1_ratio=0.5)\n",
    "logreg_smote.fit(X_train_under, y_train_under)\n",
    "\n",
    "# Fazer previsões no conjunto de teste\n",
    "y_pred_under = logreg_smote.predict(X_test)\n",
    "\n",
    "# Avaliar o desempenho\n",
    "accuracy_smote = accuracy_score(y_test, y_pred_under)\n",
    "conf_matrix_smote = confusion_matrix(y_test, y_pred_under)\n",
    "class_report_smote = classification_report(y_test, y_pred_under)\n",
    "\n",
    "# Exibir os resultados\n",
    "print(f\"Acurácia: {accuracy_smote}\")\n",
    "print(f\"Matriz de Confusão:\\n{conf_matrix_smote}\")\n",
    "print(f\"Relatório de Classificação:\\n{class_report_smote}\")"
   ],
   "id": "a96ec73397159e98",
   "outputs": [
    {
     "name": "stdout",
     "output_type": "stream",
     "text": [
      "Acurácia: 0.9565543071161049\n",
      "Matriz de Confusão:\n",
      "[[2554    0]\n",
      " [ 116    0]]\n",
      "Relatório de Classificação:\n",
      "              precision    recall  f1-score   support\n",
      "\n",
      "           0       0.96      1.00      0.98      2554\n",
      "           1       0.00      0.00      0.00       116\n",
      "\n",
      "    accuracy                           0.96      2670\n",
      "   macro avg       0.48      0.50      0.49      2670\n",
      "weighted avg       0.91      0.96      0.94      2670\n",
      "\n"
     ]
    },
    {
     "name": "stderr",
     "output_type": "stream",
     "text": [
      "C:\\Users\\ricme\\anaconda3\\envs\\ebac\\Lib\\site-packages\\sklearn\\linear_model\\_sag.py:350: ConvergenceWarning: The max_iter was reached which means the coef_ did not converge\n",
      "  warnings.warn(\n",
      "C:\\Users\\ricme\\anaconda3\\envs\\ebac\\Lib\\site-packages\\sklearn\\metrics\\_classification.py:1469: UndefinedMetricWarning: Precision and F-score are ill-defined and being set to 0.0 in labels with no predicted samples. Use `zero_division` parameter to control this behavior.\n",
      "  _warn_prf(average, modifier, msg_start, len(result))\n",
      "C:\\Users\\ricme\\anaconda3\\envs\\ebac\\Lib\\site-packages\\sklearn\\metrics\\_classification.py:1469: UndefinedMetricWarning: Precision and F-score are ill-defined and being set to 0.0 in labels with no predicted samples. Use `zero_division` parameter to control this behavior.\n",
      "  _warn_prf(average, modifier, msg_start, len(result))\n",
      "C:\\Users\\ricme\\anaconda3\\envs\\ebac\\Lib\\site-packages\\sklearn\\metrics\\_classification.py:1469: UndefinedMetricWarning: Precision and F-score are ill-defined and being set to 0.0 in labels with no predicted samples. Use `zero_division` parameter to control this behavior.\n",
      "  _warn_prf(average, modifier, msg_start, len(result))\n"
     ]
    }
   ],
   "execution_count": 178
  },
  {
   "metadata": {
    "ExecuteTime": {
     "end_time": "2024-10-08T00:07:47.139806Z",
     "start_time": "2024-10-08T00:07:46.020725Z"
    }
   },
   "cell_type": "code",
   "outputs": [
    {
     "name": "stdout",
     "output_type": "stream",
     "text": [
      "Acurácia: 0.6569288389513108\n",
      "Matriz de Confusão:\n",
      "[[1665  889]\n",
      " [  27   89]]\n",
      "Relatório de Classificação:\n",
      "              precision    recall  f1-score   support\n",
      "\n",
      "           0       0.98      0.65      0.78      2554\n",
      "           1       0.09      0.77      0.16       116\n",
      "\n",
      "    accuracy                           0.66      2670\n",
      "   macro avg       0.54      0.71      0.47      2670\n",
      "weighted avg       0.95      0.66      0.76      2670\n",
      "\n"
     ]
    }
   ],
   "execution_count": 177,
   "source": [
    "# Instanciar o modelo Random Forest\n",
    "rf = RandomForestClassifier(n_estimators=500, min_samples_leaf=15, random_state=42)\n",
    "\n",
    "# Treinar o modelo com os dados subamostrados\n",
    "rf.fit(X_train_under, y_train_under)\n",
    "\n",
    "# Fazer previsões no conjunto de teste\n",
    "y_pred = rf.predict(X_test)\n",
    "\n",
    "# Avaliar o desempenho do modelo\n",
    "accuracy = accuracy_score(y_test, y_pred)\n",
    "conf_matrix = confusion_matrix(y_test, y_pred)\n",
    "class_report = classification_report(y_test, y_pred)\n",
    "\n",
    "# Exibir os resultados\n",
    "print(f\"Acurácia: {accuracy}\")\n",
    "print(f\"Matriz de Confusão:\\n{conf_matrix}\")\n",
    "print(f\"Relatório de Classificação:\\n{class_report}\")"
   ],
   "id": "b5415db581b43eaa"
  },
  {
   "metadata": {},
   "cell_type": "code",
   "outputs": [],
   "execution_count": null,
   "source": "",
   "id": "4dc765d091930bda"
  },
  {
   "metadata": {},
   "cell_type": "code",
   "outputs": [],
   "execution_count": null,
   "source": "",
   "id": "80b8028414fe81f1"
  },
  {
   "metadata": {},
   "cell_type": "code",
   "outputs": [],
   "execution_count": null,
   "source": "",
   "id": "ab3413a06b71ce12"
  },
  {
   "cell_type": "code",
   "execution_count": 10,
   "id": "b18358ccad56f257",
   "metadata": {
    "ExecuteTime": {
     "end_time": "2024-06-28T17:53:17.867314Z",
     "start_time": "2024-06-28T17:53:14.108595Z"
    }
   },
   "outputs": [
    {
     "data": {
      "text/html": [
       "<div>\n",
       "<style scoped>\n",
       "    .dataframe tbody tr th:only-of-type {\n",
       "        vertical-align: middle;\n",
       "    }\n",
       "\n",
       "    .dataframe tbody tr th {\n",
       "        vertical-align: top;\n",
       "    }\n",
       "\n",
       "    .dataframe thead th {\n",
       "        text-align: right;\n",
       "    }\n",
       "</style>\n",
       "<table border=\"1\" class=\"dataframe\">\n",
       "  <thead>\n",
       "    <tr style=\"text-align: right;\">\n",
       "      <th></th>\n",
       "      <th>ID_AGRAVO</th>\n",
       "      <th>NU_ANO</th>\n",
       "      <th>NU_IDADE_N</th>\n",
       "      <th>CS_SEXO</th>\n",
       "      <th>CS_RACA</th>\n",
       "      <th>CS_ESCOL_N</th>\n",
       "      <th>ID_MN_RESI</th>\n",
       "      <th>DT_OBITO</th>\n",
       "    </tr>\n",
       "  </thead>\n",
       "  <tbody>\n",
       "    <tr>\n",
       "      <th>0</th>\n",
       "      <td>A90 - DENGUE</td>\n",
       "      <td>2007</td>\n",
       "      <td>20 a 29 anos</td>\n",
       "      <td>Masculino</td>\n",
       "      <td>Parda</td>\n",
       "      <td>2.0</td>\n",
       "      <td>150304.0</td>\n",
       "      <td>9</td>\n",
       "    </tr>\n",
       "    <tr>\n",
       "      <th>1</th>\n",
       "      <td>A90 - DENGUE</td>\n",
       "      <td>2007</td>\n",
       "      <td>15 a 19 anos</td>\n",
       "      <td>Feminino</td>\n",
       "      <td>Ignorado</td>\n",
       "      <td>9.0</td>\n",
       "      <td>150506.0</td>\n",
       "      <td>9</td>\n",
       "    </tr>\n",
       "    <tr>\n",
       "      <th>2</th>\n",
       "      <td>A90 - DENGUE</td>\n",
       "      <td>2008</td>\n",
       "      <td>01 a 04 anos</td>\n",
       "      <td>Masculino</td>\n",
       "      <td>Parda</td>\n",
       "      <td>10.0</td>\n",
       "      <td>150330.0</td>\n",
       "      <td>9</td>\n",
       "    </tr>\n",
       "    <tr>\n",
       "      <th>3</th>\n",
       "      <td>A90 - DENGUE</td>\n",
       "      <td>2008</td>\n",
       "      <td>20 a 29 anos</td>\n",
       "      <td>Feminino</td>\n",
       "      <td>Parda</td>\n",
       "      <td>6.0</td>\n",
       "      <td>150553.0</td>\n",
       "      <td>9</td>\n",
       "    </tr>\n",
       "    <tr>\n",
       "      <th>4</th>\n",
       "      <td>X29 - ACIDENTE POR ANIMAIS PECONHENTOS</td>\n",
       "      <td>2008</td>\n",
       "      <td>40 a 49 anos</td>\n",
       "      <td>Masculino</td>\n",
       "      <td>Parda</td>\n",
       "      <td>9.0</td>\n",
       "      <td>150450.0</td>\n",
       "      <td>9</td>\n",
       "    </tr>\n",
       "  </tbody>\n",
       "</table>\n",
       "</div>"
      ],
      "text/plain": [
       "                                ID_AGRAVO  NU_ANO    NU_IDADE_N    CS_SEXO  \\\n",
       "0                            A90 - DENGUE    2007  20 a 29 anos  Masculino   \n",
       "1                            A90 - DENGUE    2007  15 a 19 anos   Feminino   \n",
       "2                            A90 - DENGUE    2008  01 a 04 anos  Masculino   \n",
       "3                            A90 - DENGUE    2008  20 a 29 anos   Feminino   \n",
       "4  X29 - ACIDENTE POR ANIMAIS PECONHENTOS    2008  40 a 49 anos  Masculino   \n",
       "\n",
       "    CS_RACA  CS_ESCOL_N  ID_MN_RESI DT_OBITO  \n",
       "0     Parda         2.0    150304.0        9  \n",
       "1  Ignorado         9.0    150506.0        9  \n",
       "2     Parda        10.0    150330.0        9  \n",
       "3     Parda         6.0    150553.0        9  \n",
       "4     Parda         9.0    150450.0        9  "
      ]
     },
     "execution_count": 10,
     "metadata": {},
     "output_type": "execute_result"
    }
   ],
   "source": [
    "# Tratando a coluna ID_AGRAVO, substituindo os códigos pelos nomes dos agravos no dicionário AGRAVO\n",
    "#df['ID_AGRAVO'] = df['ID_AGRAVO'].map(agravo.AGRAVO)\n",
    "\n",
    "# Tratando a coluna CS_SEXO, substituindo os códigos pelos nomes dos sexos no dicionário sexo.SEXO\n",
    "#df['CS_SEXO'] = df['CS_SEXO'].map(sexo.SEXO)\n",
    "\n",
    "# Tratando a coluna CS_RACA, substituindo os códigos pelos nomes das raças no dicionário raca.RACA\n",
    "#df['CS_RACA'] = df['CS_RACA'].map(raca.RACA)\n",
    "\n",
    "# Tratando a coluna NU_IDADE_N, aplicando a função converter_idade\n",
    "#df['NU_IDADE_N'] = df['NU_IDADE_N'].apply(converter_idade)\n",
    "\n",
    "#df.head()"
   ]
  },
  {
   "cell_type": "code",
   "execution_count": 18,
   "id": "38595507b46f2b47",
   "metadata": {
    "ExecuteTime": {
     "end_time": "2024-06-28T17:53:31.086757Z",
     "start_time": "2024-06-28T17:53:24.605755Z"
    }
   },
   "outputs": [],
   "source": [
    "# Salvando o arquivo tratado\n",
    "#df_merged.to_csv('painel.csv', index=False)\n",
    "\n",
    "#df_merged.to_parquet('painel.parquet', index=False)"
   ]
  },
  {
   "cell_type": "code",
   "execution_count": 18,
   "id": "e513d50005588b42",
   "metadata": {
    "ExecuteTime": {
     "end_time": "2024-06-28T17:53:31.100255Z",
     "start_time": "2024-06-28T17:53:31.096807Z"
    }
   },
   "outputs": [],
   "source": []
  }
 ],
 "metadata": {
  "kernelspec": {
   "display_name": "Python 3 (ipykernel)",
   "language": "python",
   "name": "python3"
  },
  "language_info": {
   "codemirror_mode": {
    "name": "ipython",
    "version": 3
   },
   "file_extension": ".py",
   "mimetype": "text/x-python",
   "name": "python",
   "nbconvert_exporter": "python",
   "pygments_lexer": "ipython3",
   "version": "3.11.9"
  }
 },
 "nbformat": 4,
 "nbformat_minor": 5
}
